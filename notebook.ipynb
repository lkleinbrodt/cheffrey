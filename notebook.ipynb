{
    "cells": [
        {
            "cell_type": "code",
            "execution_count": 78,
            "source": [
                "from src.cheffrey import *\n",
                "import src.sugarcube as sc\n",
                "from random import randint, sample, choice\n",
                "\n",
                "%load_ext autoreload\n",
                "%autoreload 2"
            ],
            "outputs": [
                {
                    "output_type": "stream",
                    "name": "stdout",
                    "text": [
                        "The autoreload extension is already loaded. To reload it, use:\n",
                        "  %reload_ext autoreload\n"
                    ]
                }
            ],
            "metadata": {}
        },
        {
            "cell_type": "code",
            "execution_count": 79,
            "source": [
                "sample_ingredients = {\n",
                "    'ham': '1 slice',\n",
                "    'egg': '6',\n",
                "    'cheese': '2 cups'\n",
                "}\n",
                "\n",
                "instructions = 'Cook them up real nice'\n"
            ],
            "outputs": [],
            "metadata": {}
        },
        {
            "cell_type": "code",
            "execution_count": 80,
            "source": [
                "random_ingredient().amount.value + random_ingredient().amount.value"
            ],
            "outputs": [
                {
                    "output_type": "execute_result",
                    "data": {
                        "text/plain": [
                            "9"
                        ]
                    },
                    "metadata": {},
                    "execution_count": 80
                }
            ],
            "metadata": {}
        },
        {
            "cell_type": "code",
            "execution_count": 81,
            "source": [
                "ok = random_ingredient()\n",
                "ok2 = ok\n",
                "print(ok.amount)\n",
                "ok3 = ok + ok2"
            ],
            "outputs": [
                {
                    "output_type": "stream",
                    "name": "stdout",
                    "text": [
                        "3 pinch\n"
                    ]
                }
            ],
            "metadata": {}
        },
        {
            "cell_type": "code",
            "execution_count": 82,
            "source": [
                "ok3"
            ],
            "outputs": [
                {
                    "output_type": "execute_result",
                    "data": {
                        "text/plain": [
                            "6 pinch Ingredient_2"
                        ]
                    },
                    "metadata": {},
                    "execution_count": 82
                }
            ],
            "metadata": {}
        },
        {
            "cell_type": "code",
            "execution_count": 83,
            "source": [
                "ok3.to(sc.Volume.units['quart'])"
            ],
            "outputs": [
                {
                    "output_type": "execute_result",
                    "data": {
                        "text/plain": [
                            "0.00198129 qt Ingredient_2"
                        ]
                    },
                    "metadata": {},
                    "execution_count": 83
                }
            ],
            "metadata": {}
        },
        {
            "cell_type": "code",
            "execution_count": 86,
            "source": [
                "(1 * sc.Volume.gallon *sc.Flour).to(sc.Volume.cup)"
            ],
            "outputs": [
                {
                    "output_type": "execute_result",
                    "data": {
                        "text/plain": [
                            "16 cup Flour"
                        ]
                    },
                    "metadata": {},
                    "execution_count": 86
                }
            ],
            "metadata": {}
        },
        {
            "cell_type": "code",
            "execution_count": 71,
            "source": [
                "ingredient = 250 * sc.Mass.gram * sc.Flour\n",
                "print(\"%s = %s\" % (ingredient, ingredient.to(sc.Volume.cup)))"
            ],
            "outputs": [
                {
                    "output_type": "stream",
                    "name": "stdout",
                    "text": [
                        "250 g Flour = 1.4881 cup Flour\n"
                    ]
                }
            ],
            "metadata": {}
        },
        {
            "cell_type": "code",
            "execution_count": 33,
            "source": [
                "[(name, unit) for name, unit in sc.Volume.units.items()]"
            ],
            "outputs": [
                {
                    "output_type": "execute_result",
                    "data": {
                        "text/plain": [
                            "[('liter', liter),\n",
                            " ('milliliter', milliliter),\n",
                            " ('centiliter', centiliter),\n",
                            " ('deciliter', deciliter),\n",
                            " ('decaliter', decaliter),\n",
                            " ('hectoliter', hectoliter),\n",
                            " ('kiloliter', kiloliter),\n",
                            " ('pinch', pinch),\n",
                            " ('teaspoon', teaspoon),\n",
                            " ('tablespoon', tablespoon),\n",
                            " ('fluidOunce', fluidOunce),\n",
                            " ('cup', cup),\n",
                            " ('pint', pint),\n",
                            " ('quart', quart),\n",
                            " ('gallon', gallon)]"
                        ]
                    },
                    "metadata": {},
                    "execution_count": 33
                }
            ],
            "metadata": {}
        },
        {
            "cell_type": "code",
            "execution_count": 42,
            "source": [
                "ok = random_ingredient()\n",
                "ok.amount.unit.measure.units\n"
            ],
            "outputs": [
                {
                    "output_type": "execute_result",
                    "data": {
                        "text/plain": [
                            "{'liter': liter,\n",
                            " 'milliliter': milliliter,\n",
                            " 'centiliter': centiliter,\n",
                            " 'deciliter': deciliter,\n",
                            " 'decaliter': decaliter,\n",
                            " 'hectoliter': hectoliter,\n",
                            " 'kiloliter': kiloliter,\n",
                            " 'pinch': pinch,\n",
                            " 'teaspoon': teaspoon,\n",
                            " 'tablespoon': tablespoon,\n",
                            " 'fluidOunce': fluidOunce,\n",
                            " 'cup': cup,\n",
                            " 'pint': pint,\n",
                            " 'quart': quart,\n",
                            " 'gallon': gallon}"
                        ]
                    },
                    "metadata": {},
                    "execution_count": 42
                }
            ],
            "metadata": {}
        },
        {
            "cell_type": "code",
            "execution_count": 45,
            "source": [
                "ok.amount.unit.measure.units['liter'].converter()"
            ],
            "outputs": [
                {
                    "output_type": "error",
                    "ename": "TypeError",
                    "evalue": "'Converter' object is not callable",
                    "traceback": [
                        "\u001b[0;31m---------------------------------------------------------------------------\u001b[0m",
                        "\u001b[0;31mTypeError\u001b[0m                                 Traceback (most recent call last)",
                        "\u001b[0;32m<ipython-input-45-f3e0b583a281>\u001b[0m in \u001b[0;36m<module>\u001b[0;34m\u001b[0m\n\u001b[0;32m----> 1\u001b[0;31m \u001b[0mok\u001b[0m\u001b[0;34m.\u001b[0m\u001b[0mamount\u001b[0m\u001b[0;34m.\u001b[0m\u001b[0munit\u001b[0m\u001b[0;34m.\u001b[0m\u001b[0mmeasure\u001b[0m\u001b[0;34m.\u001b[0m\u001b[0munits\u001b[0m\u001b[0;34m[\u001b[0m\u001b[0;34m'liter'\u001b[0m\u001b[0;34m]\u001b[0m\u001b[0;34m.\u001b[0m\u001b[0mconverter\u001b[0m\u001b[0;34m(\u001b[0m\u001b[0;34m)\u001b[0m\u001b[0;34m\u001b[0m\u001b[0;34m\u001b[0m\u001b[0m\n\u001b[0m",
                        "\u001b[0;31mTypeError\u001b[0m: 'Converter' object is not callable"
                    ]
                }
            ],
            "metadata": {}
        },
        {
            "cell_type": "code",
            "execution_count": 6,
            "source": [
                "sample_ingredients = [Ingredient(f\"ing_{i}\", i, f'measure_{i}') for i in range(3)]"
            ],
            "outputs": [],
            "metadata": {}
        },
        {
            "cell_type": "code",
            "execution_count": 7,
            "source": [
                "my_recipes = [Recipe(f'sammy_{i}', sample_ingredients, instructions) for i in range(100)]"
            ],
            "outputs": [],
            "metadata": {}
        },
        {
            "cell_type": "code",
            "execution_count": 8,
            "source": [
                "my_cookbook = Cookbook(\"Lando's Cookbook\")\n",
                "my_cookbook.recipes = my_recipes"
            ],
            "outputs": [],
            "metadata": {}
        },
        {
            "cell_type": "code",
            "execution_count": 10,
            "source": [
                "recipes = [my_cookbook.recipes[i] for i in range(5)]\n",
                "\n",
                "for recipe in recipes:\n",
                "    for ingredient in recipe.ingredients:\n",
                "        "
            ],
            "outputs": [],
            "metadata": {}
        },
        {
            "cell_type": "code",
            "execution_count": null,
            "source": [],
            "outputs": [],
            "metadata": {}
        }
    ],
    "metadata": {
        "orig_nbformat": 4,
        "language_info": {
            "name": "python",
            "version": "3.8.10",
            "mimetype": "text/x-python",
            "codemirror_mode": {
                "name": "ipython",
                "version": 3
            },
            "pygments_lexer": "ipython3",
            "nbconvert_exporter": "python",
            "file_extension": ".py"
        },
        "kernelspec": {
            "name": "python3",
            "display_name": "Python 3.8.10 64-bit ('cheffrey': conda)"
        },
        "interpreter": {
            "hash": "0815d1421d7013c228f59252dd9fb85171fc652b503ad5ea5d5280abb210996a"
        }
    },
    "nbformat": 4,
    "nbformat_minor": 2
}