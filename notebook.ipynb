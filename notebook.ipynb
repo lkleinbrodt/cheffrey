{
    "cells": [
        {
            "cell_type": "code",
            "execution_count": 23,
            "source": [
                "from src.cheffrey import *\n",
                "import src.sugarcube as sc\n",
                "from random import randint, sample, choice\n",
                "from recipe_scrapers import scrape_me as scrape_recipe\n",
                "\n",
                "%reload_ext autoreload\n",
                "%autoreload 2"
            ],
            "outputs": [],
            "metadata": {}
        },
        {
            "cell_type": "code",
            "execution_count": 24,
            "source": [
                "ok = scrape_recipe('https://cooking.nytimes.com/recipes/1019981-seared-scallop-pasta-with-burst-tomatoes-and-herbs')"
            ],
            "outputs": [],
            "metadata": {}
        },
        {
            "cell_type": "code",
            "execution_count": 26,
            "source": [
                "add_to_recipe_file(ok)"
            ],
            "outputs": [],
            "metadata": {}
        },
        {
            "cell_type": "code",
            "execution_count": 22,
            "source": [
                "'ok' in {'hey': 'you', 'ok': 2}.keys()"
            ],
            "outputs": [
                {
                    "output_type": "execute_result",
                    "data": {
                        "text/plain": [
                            "True"
                        ]
                    },
                    "metadata": {},
                    "execution_count": 22
                }
            ],
            "metadata": {}
        },
        {
            "cell_type": "code",
            "execution_count": 15,
            "source": [],
            "outputs": [],
            "metadata": {}
        },
        {
            "cell_type": "code",
            "execution_count": 12,
            "source": [
                "master_recipes['chicken tacos']"
            ],
            "outputs": [
                {
                    "output_type": "execute_result",
                    "data": {
                        "text/plain": [
                            "{'ingredients': {'chicken': '1 pound',\n",
                            "  'corn tortillas': 6,\n",
                            "  'salsa': '.5 cup',\n",
                            "  'onion': 0.5},\n",
                            " 'instructions': 'cook everything, make the tacos',\n",
                            " 'tags': ['mexican', 'erin', 'landon', 'dinner', 'meat', 'lunch']}"
                        ]
                    },
                    "metadata": {},
                    "execution_count": 12
                }
            ],
            "metadata": {}
        },
        {
            "cell_type": "code",
            "execution_count": 20,
            "source": [],
            "outputs": [
                {
                    "output_type": "execute_result",
                    "data": {
                        "text/plain": [
                            "[{'href': '/?action=click&module=nav&region=logo&pgType=recipe-page',\n",
                            "  'class': ['nytc---sitelogo---logoWrapper'],\n",
                            "  'aria-label': 'Recipes and Cooking Guides From The New York Times'},\n",
                            " {'href': '/search?q=Colu+Henry&action=click&module=byline&region=recipe%20page'},\n",
                            " {'class': ['btn', 'share-btn', 'icon', 'email', 'icon-bubble-email'],\n",
                            "  'href': 'mailto:?subject=NYT%20Cooking:%20Seared%20Scallop%20Pasta%20With%20Burst%20Tomatoes%20and%20Herbs&body=NYT%20Cooking:%20Seared%20Scallop%20Pasta%20With%20Burst%20Tomatoes%20and%20Herbs%0A%0Ahttps://cooking.nytimes.com/recipes/1019981-seared-scallop-pasta-with-burst-tomatoes-and-herbs%3Futm_source%3Dsharetools%26utm_medium%3Demail%26utm_campaign%3Dwebsite',\n",
                            "  'target': '_blank',\n",
                            "  'data-role': 'share-button',\n",
                            "  'data-platform': 'Email',\n",
                            "  'rel': ['noreferrer', 'noopener']},\n",
                            " {'class': ['btn', 'share-btn', 'icon', 'pinterest', 'icon-bubble-pinterest'],\n",
                            "  'href': \"http://www.pinterest.com/pin/create/button/?url=https%3A%2F%2Fcooking.nytimes.com%2Frecipes%2F1019981-seared-scallop-pasta-with-burst-tomatoes-and-herbs%3Fsmid=pin-share&description=NYT%20Cooking:%20Although%20usually%20designated%20as%20a%20“something%20special”%20ingredient,%20scallops%20make%20a%20perfect%20weeknight%20dinner%20because%20they%20cook%20in%20minutes.%20To%20get%20a%20good,%20crisp%20sear,%20be%20patient%20(it's%20hard%20for%20us,%20too)%20and%20let%20the%20pan%20get%20quite%20hot%20before%20adding%20the%20scallops.%20Once%20you%20do,%20leave%20them%20alone%20to%20ensure%20a%20deeply%20golden%20crust.%20Toss%20them%20with%20pasta%20and%20candy-colored%20cherry%20tomatoes%20that%20burst%20and%20get%20coax...&media=https%3A%2F%2Fstatic01.nyt.com%2Fimages%2F2019%2F02%2F04%2Fdining%2Fch-pasta-with-scallops-tomatoes-and-herbs%2Fmerlin_149536239_0aa05c95-efc8-4938-a0d4-77cea46458b6-verticalTwoByThree735.jpg\",\n",
                            "  'target': '_blank',\n",
                            "  'data-role': 'share-button',\n",
                            "  'data-platform': 'Pinterest',\n",
                            "  'rel': ['noreferrer', 'noopener']},\n",
                            " {'class': ['btn', 'share-btn', 'icon', 'facebook', 'icon-bubble-fb'],\n",
                            "  'href': 'http://www.facebook.com/sharer/sharer.php?u=https://cooking.nytimes.com/recipes/1019981-seared-scallop-pasta-with-burst-tomatoes-and-herbs%3Fsmid=fb-share',\n",
                            "  'target': '_blank',\n",
                            "  'data-role': 'share-button',\n",
                            "  'data-platform': 'Facebook',\n",
                            "  'rel': ['noreferrer', 'noopener']},\n",
                            " {'class': ['btn', 'share-btn', 'icon', 'twitter', 'icon-bubble-twitter'],\n",
                            "  'href': 'http://twitter.com/intent/tweet?text=Seared%20Scallop%20Pasta%20With%20Burst%20Tomatoes%20and%20Herbs&url=https://cooking.nytimes.com/recipes/1019981-seared-scallop-pasta-with-burst-tomatoes-and-herbs%3Fsmid=tw-share&hashtags=NYTCooking',\n",
                            "  'target': '_blank',\n",
                            "  'data-role': 'share-button',\n",
                            "  'data-platform': 'Twitter',\n",
                            "  'rel': ['noreferrer', 'noopener']},\n",
                            " {'id': 'italian-tag', 'class': ['tag'], 'href': '/tag/italian'},\n",
                            " {'id': 'pastas-tag', 'class': ['tag'], 'href': '/tag/pastas'},\n",
                            " {'id': 'seafood-tag', 'class': ['tag'], 'href': '/tag/seafood'},\n",
                            " {'id': 'herb-tag', 'class': ['tag'], 'href': '/tag/herbs'},\n",
                            " {'id': 'pasta-tag',\n",
                            "  'class': ['tag'],\n",
                            "  'href': '/topics/our-best-pasta-recipes'},\n",
                            " {'id': 'scallop-tag', 'class': ['tag'], 'href': '/tag/scallops'},\n",
                            " {'id': 'shallot-tag', 'class': ['tag'], 'href': '/tag/shallot'},\n",
                            " {'id': 'tomato-tag',\n",
                            "  'class': ['tag'],\n",
                            "  'href': '/topics/our-best-tomato-recipes'},\n",
                            " {'id': 'dinner-tag', 'class': ['tag'], 'href': '/topics/dinner-recipes'},\n",
                            " {'id': 'for-two-tag', 'class': ['tag'], 'href': '/tag/for%20two'},\n",
                            " {'id': 'quick-tag', 'class': ['tag'], 'href': '/tag/quick'},\n",
                            " {'id': 'weekday-tag', 'class': ['tag'], 'href': '/topics/easy-weeknight'},\n",
                            " {'id': 'weeknight-tag', 'class': ['tag'], 'href': '/tag/weeknight'},\n",
                            " {'id': 'main-course-tag', 'class': ['tag'], 'href': '/tag/main%20course'},\n",
                            " {'id': 'dairy-free-tag', 'class': ['tag'], 'href': '/tag/dairy-free'},\n",
                            " {'class': ['substitution_link'],\n",
                            "  'href': '/guides/79-substitutions-for-cooking',\n",
                            "  'data-reactroot': ''},\n",
                            " {'href': 'https://www.edamam.com/website/wizard.jsp', 'target': '_blank'},\n",
                            " {'class': ['btn', 'share-btn', 'icon', 'email', 'icon-bubble-email'],\n",
                            "  'href': 'mailto:?subject=NYT%20Cooking:%20Seared%20Scallop%20Pasta%20With%20Burst%20Tomatoes%20and%20Herbs&body=NYT%20Cooking:%20Seared%20Scallop%20Pasta%20With%20Burst%20Tomatoes%20and%20Herbs%0A%0Ahttps://cooking.nytimes.com/recipes/1019981-seared-scallop-pasta-with-burst-tomatoes-and-herbs%3Futm_source%3Dsharetools%26utm_medium%3Demail%26utm_campaign%3Dwebsite',\n",
                            "  'target': '_blank',\n",
                            "  'data-role': 'share-button',\n",
                            "  'data-platform': 'Email',\n",
                            "  'rel': ['noreferrer', 'noopener']},\n",
                            " {'class': ['btn', 'share-btn', 'icon', 'pinterest', 'icon-bubble-pinterest'],\n",
                            "  'href': \"http://www.pinterest.com/pin/create/button/?url=https%3A%2F%2Fcooking.nytimes.com%2Frecipes%2F1019981-seared-scallop-pasta-with-burst-tomatoes-and-herbs%3Fsmid=pin-share&description=NYT%20Cooking:%20Although%20usually%20designated%20as%20a%20“something%20special”%20ingredient,%20scallops%20make%20a%20perfect%20weeknight%20dinner%20because%20they%20cook%20in%20minutes.%20To%20get%20a%20good,%20crisp%20sear,%20be%20patient%20(it's%20hard%20for%20us,%20too)%20and%20let%20the%20pan%20get%20quite%20hot%20before%20adding%20the%20scallops.%20Once%20you%20do,%20leave%20them%20alone%20to%20ensure%20a%20deeply%20golden%20crust.%20Toss%20them%20with%20pasta%20and%20candy-colored%20cherry%20tomatoes%20that%20burst%20and%20get%20coax...&media=https%3A%2F%2Fstatic01.nyt.com%2Fimages%2F2019%2F02%2F04%2Fdining%2Fch-pasta-with-scallops-tomatoes-and-herbs%2Fmerlin_149536239_0aa05c95-efc8-4938-a0d4-77cea46458b6-verticalTwoByThree735.jpg\",\n",
                            "  'target': '_blank',\n",
                            "  'data-role': 'share-button',\n",
                            "  'data-platform': 'Pinterest',\n",
                            "  'rel': ['noreferrer', 'noopener']},\n",
                            " {'class': ['btn', 'share-btn', 'icon', 'facebook', 'icon-bubble-fb'],\n",
                            "  'href': 'http://www.facebook.com/sharer/sharer.php?u=https://cooking.nytimes.com/recipes/1019981-seared-scallop-pasta-with-burst-tomatoes-and-herbs%3Fsmid=fb-share',\n",
                            "  'target': '_blank',\n",
                            "  'data-role': 'share-button',\n",
                            "  'data-platform': 'Facebook',\n",
                            "  'rel': ['noreferrer', 'noopener']},\n",
                            " {'class': ['btn', 'share-btn', 'icon', 'twitter', 'icon-bubble-twitter'],\n",
                            "  'href': 'http://twitter.com/intent/tweet?text=Seared%20Scallop%20Pasta%20With%20Burst%20Tomatoes%20and%20Herbs&url=https://cooking.nytimes.com/recipes/1019981-seared-scallop-pasta-with-burst-tomatoes-and-herbs%3Fsmid=tw-share&hashtags=NYTCooking',\n",
                            "  'target': '_blank',\n",
                            "  'data-role': 'share-button',\n",
                            "  'data-platform': 'Twitter',\n",
                            "  'rel': ['noreferrer', 'noopener']},\n",
                            " {'href': '/68861692-nyt-cooking/839100-valentines-day-dinner-ideas-and-recipes'},\n",
                            " {'href': '/recipes/1021856-smoky-tomato-carbonara',\n",
                            "  'class': ['image-anchor', 'card-link']},\n",
                            " {'class': ['divSticker'],\n",
                            "  'href': '/search?filters%5Bmeal_types%5D%5B%5D=easy',\n",
                            "  'title': 'Search for Easy Recipes'},\n",
                            " {'href': '/recipes/1021856-smoky-tomato-carbonara',\n",
                            "  'class': ['card-recipe-info', 'card-link']},\n",
                            " {'href': '/recipes/1020773-skillet-chicken-with-couscous-lemon-and-halloumi',\n",
                            "  'class': ['image-anchor', 'card-link']},\n",
                            " {'href': '/recipes/1020773-skillet-chicken-with-couscous-lemon-and-halloumi',\n",
                            "  'class': ['card-recipe-info', 'card-link']},\n",
                            " {'href': '/recipes/1018556-classic-cheese-fondue',\n",
                            "  'class': ['image-anchor', 'card-link']},\n",
                            " {'href': '/recipes/1018556-classic-cheese-fondue',\n",
                            "  'class': ['card-recipe-info', 'card-link']},\n",
                            " {'href': '/recipes/1019957-chocolate-lava-cake-for-two',\n",
                            "  'class': ['image-anchor', 'card-link']},\n",
                            " {'href': '/recipes/1019957-chocolate-lava-cake-for-two',\n",
                            "  'class': ['card-recipe-info', 'card-link']},\n",
                            " {'href': '/recipes/1021897-rasta-pasta-with-jerk-chicken',\n",
                            "  'class': ['image-anchor', 'card-link']},\n",
                            " {'href': '/recipes/1021897-rasta-pasta-with-jerk-chicken',\n",
                            "  'class': ['card-recipe-info', 'card-link']},\n",
                            " {'href': '/recipes/1020828-lemony-shrimp-and-bean-stew',\n",
                            "  'class': ['image-anchor', 'card-link']},\n",
                            " {'class': ['divSticker'],\n",
                            "  'href': '/search?filters%5Bmeal_types%5D%5B%5D=easy',\n",
                            "  'title': 'Search for Easy Recipes'},\n",
                            " {'href': '/recipes/1020828-lemony-shrimp-and-bean-stew',\n",
                            "  'class': ['card-recipe-info', 'card-link']},\n",
                            " {'href': '/recipes/1021898-chocolate-pudding-with-raspberry-cream',\n",
                            "  'class': ['image-anchor', 'card-link']},\n",
                            " {'href': '/recipes/1021898-chocolate-pudding-with-raspberry-cream',\n",
                            "  'class': ['card-recipe-info', 'card-link']},\n",
                            " {'href': '/recipes/1021441-gochujang-glazed-eggplant-with-fried-scallions',\n",
                            "  'class': ['image-anchor', 'card-link']},\n",
                            " {'href': '/recipes/1021441-gochujang-glazed-eggplant-with-fried-scallions',\n",
                            "  'class': ['card-recipe-info', 'card-link']},\n",
                            " {'href': '/recipes/1021277-sheet-pan-baked-feta-with-broccolini-tomatoes-and-lemon',\n",
                            "  'class': ['image-anchor', 'card-link']},\n",
                            " {'class': ['divSticker'],\n",
                            "  'href': '/search?filters%5Bmeal_types%5D%5B%5D=easy',\n",
                            "  'title': 'Search for Easy Recipes'},\n",
                            " {'href': '/recipes/1021277-sheet-pan-baked-feta-with-broccolini-tomatoes-and-lemon',\n",
                            "  'class': ['card-recipe-info', 'card-link']},\n",
                            " {'href': '/recipes/1017099-ina-gartens-make-ahead-coquilles-st-jacques',\n",
                            "  'class': ['image-anchor', 'card-link']},\n",
                            " {'href': '/recipes/1017099-ina-gartens-make-ahead-coquilles-st-jacques',\n",
                            "  'class': ['card-recipe-info', 'card-link']},\n",
                            " {'href': '/recipes/1020853-meatloaf', 'class': ['image-anchor', 'card-link']},\n",
                            " {'href': '/recipes/1020853-meatloaf',\n",
                            "  'class': ['card-recipe-info', 'card-link']},\n",
                            " {'href': '/recipes/1021718-maple-baked-salmon',\n",
                            "  'class': ['image-anchor', 'card-link']},\n",
                            " {'href': '/recipes/1021718-maple-baked-salmon',\n",
                            "  'class': ['card-recipe-info', 'card-link']},\n",
                            " {'href': '/recipes/1019951-blue-cheese-steak-and-endive-salad-for-two',\n",
                            "  'class': ['image-anchor', 'card-link']},\n",
                            " {'href': '/recipes/1019951-blue-cheese-steak-and-endive-salad-for-two',\n",
                            "  'class': ['card-recipe-info', 'card-link']},\n",
                            " {'href': '/recipes/1020039-one-pan-chicken-with-peperonata-and-olives',\n",
                            "  'class': ['image-anchor', 'card-link']},\n",
                            " {'class': ['divSticker'],\n",
                            "  'href': '/search?filters%5Bmeal_types%5D%5B%5D=easy',\n",
                            "  'title': 'Search for Easy Recipes'},\n",
                            " {'href': '/recipes/1020039-one-pan-chicken-with-peperonata-and-olives',\n",
                            "  'class': ['card-recipe-info', 'card-link']},\n",
                            " {'href': '/recipes/1020729-vegan-cacio-e-pepe',\n",
                            "  'class': ['image-anchor', 'card-link']},\n",
                            " {'href': '/recipes/1020729-vegan-cacio-e-pepe',\n",
                            "  'class': ['card-recipe-info', 'card-link']},\n",
                            " {'href': '/recipes/1019504-korean-bulgogi-bolognese',\n",
                            "  'class': ['image-anchor', 'card-link']},\n",
                            " {'href': '/recipes/1019504-korean-bulgogi-bolognese',\n",
                            "  'class': ['card-recipe-info', 'card-link']},\n",
                            " {'href': '/recipes/1014694-ginger-syrup',\n",
                            "  'class': ['image-anchor', 'card-link']},\n",
                            " {'href': '/recipes/1014694-ginger-syrup',\n",
                            "  'class': ['card-recipe-info', 'card-link']},\n",
                            " {'href': '/recipes/1020323-strawberry-pretzel-pie',\n",
                            "  'class': ['image-anchor', 'card-link']},\n",
                            " {'href': '/recipes/1020323-strawberry-pretzel-pie',\n",
                            "  'class': ['card-recipe-info', 'card-link']},\n",
                            " {'href': '/recipes/1020367-tomato-and-peach-salad-with-whipped-goat-cheese',\n",
                            "  'class': ['image-anchor', 'card-link']},\n",
                            " {'href': '/recipes/1020367-tomato-and-peach-salad-with-whipped-goat-cheese',\n",
                            "  'class': ['card-recipe-info', 'card-link']},\n",
                            " {'href': '/recipes/1021292-grilled-corn-asparagus-and-spring-onion-salad',\n",
                            "  'class': ['image-anchor', 'card-link']},\n",
                            " {'class': ['divSticker'],\n",
                            "  'href': '/search?filters%5Bmeal_types%5D%5B%5D=easy',\n",
                            "  'title': 'Search for Easy Recipes'},\n",
                            " {'href': '/recipes/1021292-grilled-corn-asparagus-and-spring-onion-salad',\n",
                            "  'class': ['card-recipe-info', 'card-link']},\n",
                            " {'class': ['guide-card-link', 'card-link'],\n",
                            "  'href': '/guides/27-how-to-make-brussels-sprouts'},\n",
                            " {'class': ['guide-card-link', 'card-link'],\n",
                            "  'href': '/guides/43-how-to-make-salad'},\n",
                            " {'class': ['guide-card-link', 'card-link'],\n",
                            "  'href': '/guides/11-how-to-roast-chicken'},\n",
                            " {'class': ['guide-card-link', 'card-link'],\n",
                            "  'href': '/guides/19-how-to-cook-salmon'},\n",
                            " {'class': ['nytc---footernewsletterform---contactUsLink'],\n",
                            "  'target': '_blank',\n",
                            "  'rel': ['noopener', 'noreferrer'],\n",
                            "  'href': 'https://help.nytimes.com/hc/en-us/articles/115015385887-Contact-Us'},\n",
                            " {'class': ['nytc---footernewsletterform---contactUsLink'],\n",
                            "  'target': '_blank',\n",
                            "  'rel': ['noopener', 'noreferrer'],\n",
                            "  'href': 'https://www.nytimes.com/privacy/privacy-policy'},\n",
                            " {'class': ['nytc---footer---iconLink'],\n",
                            "  'target': '_blank',\n",
                            "  'rel': ['noreferrer', 'noopener'],\n",
                            "  'href': 'https://www.instagram.com/nytcooking',\n",
                            "  'alt': 'Visit NYT Cooking on Instagram'},\n",
                            " {'class': ['nytc---footer---iconLink'],\n",
                            "  'target': '_blank',\n",
                            "  'rel': ['noreferrer', 'noopener'],\n",
                            "  'href': 'https://www.facebook.com/nytcooking',\n",
                            "  'alt': 'Visit NYT Cooking on Facebook'},\n",
                            " {'class': ['nytc---footer---iconLink'],\n",
                            "  'target': '_blank',\n",
                            "  'rel': ['noreferrer', 'noopener'],\n",
                            "  'href': 'https://www.youtube.com/nytcooking',\n",
                            "  'alt': 'Visit NYT Cooking on YouTube'},\n",
                            " {'class': ['nytc---footer---iconLink'],\n",
                            "  'target': '_blank',\n",
                            "  'rel': ['noreferrer', 'noopener'],\n",
                            "  'href': 'https://twitter.com/nytfood',\n",
                            "  'alt': 'Visit NYT Cooking on Twitter'},\n",
                            " {'class': ['nytc---footer---iconLink'],\n",
                            "  'target': '_blank',\n",
                            "  'rel': ['noreferrer', 'noopener'],\n",
                            "  'href': 'https://www.pinterest.com/nytcooking/',\n",
                            "  'alt': 'Visit NYT Cooking on Pinterest'},\n",
                            " {'class': ['nytc---footer---appstoreLink'],\n",
                            "  'target': '_blank',\n",
                            "  'rel': ['noreferrer', 'noopener'],\n",
                            "  'href': 'https://apps.apple.com/us/app/nyt-cooking/id911422904',\n",
                            "  'alt': 'Download the iOS NYT Cooking app'},\n",
                            " {'class': ['nytc---footer---iconLink'],\n",
                            "  'target': '_blank',\n",
                            "  'rel': ['noreferrer', 'noopener'],\n",
                            "  'href': 'https://play.google.com/store/apps/details?id=com.nytimes.cooking',\n",
                            "  'alt': 'Download the Android NYT Cooking app'},\n",
                            " {'target': '_blank',\n",
                            "  'href': 'https://www.nytimes.com/subscriptions/Multiproduct/lp8R3WU.html?campaignId=79RLU',\n",
                            "  'rel': ['noreferrer', 'noopener'],\n",
                            "  'class': ['nytc---footer---subscribe']},\n",
                            " {'href': '/ourcooks',\n",
                            "  'class': ['nytc---footer---footerLink'],\n",
                            "  'data-test-id': 'footer-our-cooks-link'},\n",
                            " {'href': '/see-our-features',\n",
                            "  'class': ['nytc---footer---footerLink'],\n",
                            "  'data-test-id': 'footer-features-link'},\n",
                            " {'href': '/frequently-asked-questions',\n",
                            "  'class': ['nytc---footer---footerLink'],\n",
                            "  'data-test-id': 'footer-faq-link'},\n",
                            " {'href': '/tools',\n",
                            "  'class': ['nytc---footer---footerLink'],\n",
                            "  'data-test-id': 'footer-tools-link'},\n",
                            " {'target': '_blank',\n",
                            "  'href': 'https://www.nytimes.com/section/food',\n",
                            "  'rel': ['noreferrer', 'noopener'],\n",
                            "  'class': ['nytc---footer---footerLink'],\n",
                            "  'data-test-id': 'footer-food-link'},\n",
                            " {'href': 'mailto:cookingcare@nytimes.com',\n",
                            "  'class': ['nytc---footer---footerLink', 'nytc---footer---sendFeedback'],\n",
                            "  'id': 'customer-care-email'},\n",
                            " {'target': '_blank',\n",
                            "  'href': 'https://www.nytimes.com/subscriptions/Multiproduct/cooking_gift.html?campaignId=7HYRF',\n",
                            "  'rel': ['noreferrer', 'noopener'],\n",
                            "  'class': ['nytc---footer---footerLink'],\n",
                            "  'data-test-id': 'footer-gift-link'},\n",
                            " {'target': '_blank',\n",
                            "  'href': 'https://store.nytimes.com/collections/cooking-collection?utm_source=nyt_cooking&utm_medium=referral&utm_campaign=cooking_collection&utm_content=footer',\n",
                            "  'rel': ['noreferrer', 'noopener'],\n",
                            "  'class': ['nytc---footer---footerLink'],\n",
                            "  'data-test-id': 'footer-merchandise-link'},\n",
                            " {'href': 'http://www.nytco.com',\n",
                            "  'itemprop': 'copyrightNotice',\n",
                            "  'class': ['nytc---footer---legalInfo']},\n",
                            " {'href': 'https://help.nytimes.com/hc/en-us/articles/115014893428-Terms-of-service',\n",
                            "  'class': ['nytc---footer---legalInfo']},\n",
                            " {'href': 'https://www.nytimes.com/privacy/privacy-policy',\n",
                            "  'class': ['nytc---footer---legalInfo']}]"
                        ]
                    },
                    "metadata": {},
                    "execution_count": 20
                }
            ],
            "metadata": {}
        },
        {
            "cell_type": "code",
            "execution_count": 83,
            "source": [
                "ok3.to(sc.Volume.units['quart'])"
            ],
            "outputs": [
                {
                    "output_type": "execute_result",
                    "data": {
                        "text/plain": [
                            "0.00198129 qt Ingredient_2"
                        ]
                    },
                    "metadata": {},
                    "execution_count": 83
                }
            ],
            "metadata": {}
        },
        {
            "cell_type": "code",
            "execution_count": 86,
            "source": [
                "(1 * sc.Volume.gallon *sc.Flour).to(sc.Volume.cup)"
            ],
            "outputs": [
                {
                    "output_type": "execute_result",
                    "data": {
                        "text/plain": [
                            "16 cup Flour"
                        ]
                    },
                    "metadata": {},
                    "execution_count": 86
                }
            ],
            "metadata": {}
        },
        {
            "cell_type": "code",
            "execution_count": 71,
            "source": [
                "ingredient = 250 * sc.Mass.gram * sc.Flour\n",
                "print(\"%s = %s\" % (ingredient, ingredient.to(sc.Volume.cup)))"
            ],
            "outputs": [
                {
                    "output_type": "stream",
                    "name": "stdout",
                    "text": [
                        "250 g Flour = 1.4881 cup Flour\n"
                    ]
                }
            ],
            "metadata": {}
        },
        {
            "cell_type": "code",
            "execution_count": 33,
            "source": [
                "[(name, unit) for name, unit in sc.Volume.units.items()]"
            ],
            "outputs": [
                {
                    "output_type": "execute_result",
                    "data": {
                        "text/plain": [
                            "[('liter', liter),\n",
                            " ('milliliter', milliliter),\n",
                            " ('centiliter', centiliter),\n",
                            " ('deciliter', deciliter),\n",
                            " ('decaliter', decaliter),\n",
                            " ('hectoliter', hectoliter),\n",
                            " ('kiloliter', kiloliter),\n",
                            " ('pinch', pinch),\n",
                            " ('teaspoon', teaspoon),\n",
                            " ('tablespoon', tablespoon),\n",
                            " ('fluidOunce', fluidOunce),\n",
                            " ('cup', cup),\n",
                            " ('pint', pint),\n",
                            " ('quart', quart),\n",
                            " ('gallon', gallon)]"
                        ]
                    },
                    "metadata": {},
                    "execution_count": 33
                }
            ],
            "metadata": {}
        },
        {
            "cell_type": "code",
            "execution_count": 42,
            "source": [
                "ok = random_ingredient()\n",
                "ok.amount.unit.measure.units\n"
            ],
            "outputs": [
                {
                    "output_type": "execute_result",
                    "data": {
                        "text/plain": [
                            "{'liter': liter,\n",
                            " 'milliliter': milliliter,\n",
                            " 'centiliter': centiliter,\n",
                            " 'deciliter': deciliter,\n",
                            " 'decaliter': decaliter,\n",
                            " 'hectoliter': hectoliter,\n",
                            " 'kiloliter': kiloliter,\n",
                            " 'pinch': pinch,\n",
                            " 'teaspoon': teaspoon,\n",
                            " 'tablespoon': tablespoon,\n",
                            " 'fluidOunce': fluidOunce,\n",
                            " 'cup': cup,\n",
                            " 'pint': pint,\n",
                            " 'quart': quart,\n",
                            " 'gallon': gallon}"
                        ]
                    },
                    "metadata": {},
                    "execution_count": 42
                }
            ],
            "metadata": {}
        },
        {
            "cell_type": "code",
            "execution_count": 45,
            "source": [
                "ok.amount.unit.measure.units['liter'].converter()"
            ],
            "outputs": [
                {
                    "output_type": "error",
                    "ename": "TypeError",
                    "evalue": "'Converter' object is not callable",
                    "traceback": [
                        "\u001b[0;31m---------------------------------------------------------------------------\u001b[0m",
                        "\u001b[0;31mTypeError\u001b[0m                                 Traceback (most recent call last)",
                        "\u001b[0;32m<ipython-input-45-f3e0b583a281>\u001b[0m in \u001b[0;36m<module>\u001b[0;34m\u001b[0m\n\u001b[0;32m----> 1\u001b[0;31m \u001b[0mok\u001b[0m\u001b[0;34m.\u001b[0m\u001b[0mamount\u001b[0m\u001b[0;34m.\u001b[0m\u001b[0munit\u001b[0m\u001b[0;34m.\u001b[0m\u001b[0mmeasure\u001b[0m\u001b[0;34m.\u001b[0m\u001b[0munits\u001b[0m\u001b[0;34m[\u001b[0m\u001b[0;34m'liter'\u001b[0m\u001b[0;34m]\u001b[0m\u001b[0;34m.\u001b[0m\u001b[0mconverter\u001b[0m\u001b[0;34m(\u001b[0m\u001b[0;34m)\u001b[0m\u001b[0;34m\u001b[0m\u001b[0;34m\u001b[0m\u001b[0m\n\u001b[0m",
                        "\u001b[0;31mTypeError\u001b[0m: 'Converter' object is not callable"
                    ]
                }
            ],
            "metadata": {}
        },
        {
            "cell_type": "code",
            "execution_count": 6,
            "source": [
                "sample_ingredients = [Ingredient(f\"ing_{i}\", i, f'measure_{i}') for i in range(3)]"
            ],
            "outputs": [],
            "metadata": {}
        },
        {
            "cell_type": "code",
            "execution_count": 7,
            "source": [
                "my_recipes = [Recipe(f'sammy_{i}', sample_ingredients, instructions) for i in range(100)]"
            ],
            "outputs": [],
            "metadata": {}
        },
        {
            "cell_type": "code",
            "execution_count": 8,
            "source": [
                "my_cookbook = Cookbook(\"Lando's Cookbook\")\n",
                "my_cookbook.recipes = my_recipes"
            ],
            "outputs": [],
            "metadata": {}
        },
        {
            "cell_type": "code",
            "execution_count": 10,
            "source": [
                "recipes = [my_cookbook.recipes[i] for i in range(5)]\n",
                "\n",
                "for recipe in recipes:\n",
                "    for ingredient in recipe.ingredients:\n",
                "        "
            ],
            "outputs": [],
            "metadata": {}
        },
        {
            "cell_type": "code",
            "execution_count": null,
            "source": [],
            "outputs": [],
            "metadata": {}
        }
    ],
    "metadata": {
        "orig_nbformat": 4,
        "language_info": {
            "name": "python",
            "version": "3.8.10",
            "mimetype": "text/x-python",
            "codemirror_mode": {
                "name": "ipython",
                "version": 3
            },
            "pygments_lexer": "ipython3",
            "nbconvert_exporter": "python",
            "file_extension": ".py"
        },
        "kernelspec": {
            "name": "python3",
            "display_name": "Python 3.8.10 64-bit ('cheffrey': conda)"
        },
        "interpreter": {
            "hash": "0815d1421d7013c228f59252dd9fb85171fc652b503ad5ea5d5280abb210996a"
        }
    },
    "nbformat": 4,
    "nbformat_minor": 2
}