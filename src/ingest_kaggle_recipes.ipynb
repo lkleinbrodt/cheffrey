{
 "cells": [
  {
   "cell_type": "code",
   "execution_count": 2,
   "metadata": {},
   "outputs": [],
   "source": [
    "import cheffrey\n",
    "import pandas as pd"
   ]
  },
  {
   "cell_type": "code",
   "execution_count": 3,
   "metadata": {},
   "outputs": [],
   "source": [
    "recipe_df = pd.read_csv('../data/recipes.csv')\n",
    "reviews_df = pd.read_csv('../data/reviews.csv')"
   ]
  },
  {
   "cell_type": "code",
   "execution_count": 9,
   "metadata": {},
   "outputs": [],
   "source": [
    "#there's so many recipes, I only want the best\n",
    "review_summary = reviews_df.groupby('RecipeId').agg(\n",
    "    nReviews=('ReviewId', 'size'),\n",
    "    medianRating=('Rating', 'median'),\n",
    "    percFiveStars=('Rating', lambda x: (x == 5).mean())\n",
    ").reset_index()"
   ]
  },
  {
   "cell_type": "code",
   "execution_count": 16,
   "metadata": {},
   "outputs": [
    {
     "name": "stdout",
     "output_type": "stream",
     "text": [
      "(1042, 4)\n",
      "(400, 4)\n"
     ]
    },
    {
     "name": "stderr",
     "output_type": "stream",
     "text": [
      "/var/folders/br/hdgw7t_11777tltdjs9tcsnc0000gn/T/ipykernel_19357/3127027427.py:3: UserWarning: Boolean Series key will be reindexed to match DataFrame index.\n",
      "  rel_recipes = rel_recipes[review_summary['percFiveStars'] > .80]\n"
     ]
    }
   ],
   "source": [
    "rel_recipes = review_summary[review_summary['nReviews'] > 100]\n",
    "print(rel_recipes.shape)\n",
    "rel_recipes = rel_recipes[review_summary['percFiveStars'] > .80]\n",
    "print(rel_recipes.shape)\n",
    "rel_uids = rel_recipes['RecipeId']\n",
    "\n"
   ]
  },
  {
   "cell_type": "code",
   "execution_count": 19,
   "metadata": {},
   "outputs": [],
   "source": [
    "rel_recipes = recipe_df[recipe_df['RecipeId'].isin(rel_uids)]"
   ]
  },
  {
   "cell_type": "code",
   "execution_count": 25,
   "metadata": {},
   "outputs": [],
   "source": []
  },
  {
   "cell_type": "code",
   "execution_count": 107,
   "metadata": {},
   "outputs": [
    {
     "name": "stderr",
     "output_type": "stream",
     "text": [
      "/var/folders/br/hdgw7t_11777tltdjs9tcsnc0000gn/T/ipykernel_19357/792388921.py:8: SettingWithCopyWarning: \n",
      "A value is trying to be set on a copy of a slice from a DataFrame.\n",
      "Try using .loc[row_indexer,col_indexer] = value instead\n",
      "\n",
      "See the caveats in the documentation: https://pandas.pydata.org/pandas-docs/stable/user_guide/indexing.html#returning-a-view-versus-a-copy\n",
      "  rel_recipes['title'] = rel_recipes['Name']\n",
      "/var/folders/br/hdgw7t_11777tltdjs9tcsnc0000gn/T/ipykernel_19357/792388921.py:9: SettingWithCopyWarning: \n",
      "A value is trying to be set on a copy of a slice from a DataFrame.\n",
      "Try using .loc[row_indexer,col_indexer] = value instead\n",
      "\n",
      "See the caveats in the documentation: https://pandas.pydata.org/pandas-docs/stable/user_guide/indexing.html#returning-a-view-versus-a-copy\n",
      "  rel_recipes['author'] = rel_recipes['AuthorName']\n",
      "/var/folders/br/hdgw7t_11777tltdjs9tcsnc0000gn/T/ipykernel_19357/792388921.py:10: SettingWithCopyWarning: \n",
      "A value is trying to be set on a copy of a slice from a DataFrame.\n",
      "Try using .loc[row_indexer,col_indexer] = value instead\n",
      "\n",
      "See the caveats in the documentation: https://pandas.pydata.org/pandas-docs/stable/user_guide/indexing.html#returning-a-view-versus-a-copy\n",
      "  rel_recipes['total_time'] = rel_recipes['TotalTime'].str.replace('PT', '')\n",
      "/var/folders/br/hdgw7t_11777tltdjs9tcsnc0000gn/T/ipykernel_19357/792388921.py:11: SettingWithCopyWarning: \n",
      "A value is trying to be set on a copy of a slice from a DataFrame.\n",
      "Try using .loc[row_indexer,col_indexer] = value instead\n",
      "\n",
      "See the caveats in the documentation: https://pandas.pydata.org/pandas-docs/stable/user_guide/indexing.html#returning-a-view-versus-a-copy\n",
      "  rel_recipes['yields'] = rel_recipes['RecipeYield']\n",
      "/var/folders/br/hdgw7t_11777tltdjs9tcsnc0000gn/T/ipykernel_19357/792388921.py:12: SettingWithCopyWarning: \n",
      "A value is trying to be set on a copy of a slice from a DataFrame.\n",
      "Try using .loc[row_indexer,col_indexer] = value instead\n",
      "\n",
      "See the caveats in the documentation: https://pandas.pydata.org/pandas-docs/stable/user_guide/indexing.html#returning-a-view-versus-a-copy\n",
      "  rel_recipes['image'] = rel_recipes['Images'].apply(get_image)\n",
      "/var/folders/br/hdgw7t_11777tltdjs9tcsnc0000gn/T/ipykernel_19357/792388921.py:13: SettingWithCopyWarning: \n",
      "A value is trying to be set on a copy of a slice from a DataFrame.\n",
      "Try using .loc[row_indexer,col_indexer] = value instead\n",
      "\n",
      "See the caveats in the documentation: https://pandas.pydata.org/pandas-docs/stable/user_guide/indexing.html#returning-a-view-versus-a-copy\n",
      "  rel_recipes['instructions'] = rel_recipes['RecipeInstructions'].apply(get_list)\n",
      "/var/folders/br/hdgw7t_11777tltdjs9tcsnc0000gn/T/ipykernel_19357/792388921.py:14: SettingWithCopyWarning: \n",
      "A value is trying to be set on a copy of a slice from a DataFrame.\n",
      "Try using .loc[row_indexer,col_indexer] = value instead\n",
      "\n",
      "See the caveats in the documentation: https://pandas.pydata.org/pandas-docs/stable/user_guide/indexing.html#returning-a-view-versus-a-copy\n",
      "  rel_recipes['category'] = rel_recipes['RecipeCategory'] + ' ' + rel_recipes['Keywords'].fillna('').apply(get_list)\n",
      "/var/folders/br/hdgw7t_11777tltdjs9tcsnc0000gn/T/ipykernel_19357/792388921.py:26: SettingWithCopyWarning: \n",
      "A value is trying to be set on a copy of a slice from a DataFrame.\n",
      "Try using .loc[row_indexer,col_indexer] = value instead\n",
      "\n",
      "See the caveats in the documentation: https://pandas.pydata.org/pandas-docs/stable/user_guide/indexing.html#returning-a-view-versus-a-copy\n",
      "  rel_recipes['ingredients'] = out\n"
     ]
    }
   ],
   "source": [
    "def get_image(x):\n",
    "    return x.split('\"')[1]\n",
    "\n",
    "def get_list(x):\n",
    "    x = x.replace('c(', '').replace(')', '')\n",
    "    x = x.replace('\"', '')\n",
    "    return x\n",
    "rel_recipes['title'] = rel_recipes['Name']\n",
    "rel_recipes['author'] = rel_recipes['AuthorName']\n",
    "rel_recipes['total_time'] = rel_recipes['TotalTime'].str.replace('PT', '')\n",
    "rel_recipes['yields'] = rel_recipes['RecipeYield']\n",
    "rel_recipes['image'] = rel_recipes['Images'].apply(get_image)\n",
    "rel_recipes['instructions'] = rel_recipes['RecipeInstructions'].apply(get_list)\n",
    "rel_recipes['category'] = rel_recipes['RecipeCategory'] + ' ' + rel_recipes['Keywords'].fillna('').apply(get_list)\n",
    "\n",
    "quantities = rel_recipes['RecipeIngredientQuantities'].apply(lambda x: get_list(x.replace('NA', '')).split(',')).tolist()\n",
    "ingredients = rel_recipes['RecipeIngredientParts'].apply(lambda x: get_list(x.replace('NA', '')).split(',')).tolist()\n",
    "\n",
    "out = []\n",
    "for r_q, r_i in zip(quantities, ingredients):\n",
    "    l = []\n",
    "    for q, i in zip(r_q, r_i):\n",
    "        l += [q + ' '+ i]\n",
    "    out.append(l)\n",
    "\n",
    "rel_recipes['ingredients'] = out"
   ]
  },
  {
   "cell_type": "code",
   "execution_count": 112,
   "metadata": {},
   "outputs": [
    {
     "name": "stdout",
     "output_type": "stream",
     "text": [
      "1661\n"
     ]
    }
   ],
   "source": [
    "current_recipes = cheffrey.load_local_recipes()\n",
    "\n",
    "tags = list(set([key for x in current_recipes.values() for key in x]))\n",
    "print(len(current_recipes))"
   ]
  },
  {
   "cell_type": "code",
   "execution_count": 109,
   "metadata": {},
   "outputs": [],
   "source": [
    "for i, row in rel_recipes.iterrows():\n",
    "    name = row['Name']\n",
    "    if name in current_recipes:\n",
    "        name += ' (Kaggle)'\n",
    "    \n",
    "    current_recipes[name] = {\n",
    "        'title': row['title'], \n",
    "        'author': row['author'], \n",
    "        'total_time': row['total_time'], \n",
    "        'yields': row['yields'], \n",
    "        'image': row['image'], \n",
    "        'instructions': row['instructions'], \n",
    "        'category': row['category'], \n",
    "        'ingredients': row['ingredients'],\n",
    "        'source': 'kaggle',\n",
    "        'url': None\n",
    "    }\n"
   ]
  },
  {
   "cell_type": "code",
   "execution_count": 110,
   "metadata": {},
   "outputs": [
    {
     "name": "stdout",
     "output_type": "stream",
     "text": [
      "1661\n"
     ]
    }
   ],
   "source": [
    "print(len(current_recipes))"
   ]
  },
  {
   "cell_type": "code",
   "execution_count": 111,
   "metadata": {},
   "outputs": [],
   "source": [
    "import json\n",
    "with open(cheffrey.ROOT_DIR/'data/recipes.json', 'w') as f:\n",
    "    json.dump(current_recipes, f)"
   ]
  },
  {
   "cell_type": "code",
   "execution_count": null,
   "metadata": {},
   "outputs": [],
   "source": []
  }
 ],
 "metadata": {
  "kernelspec": {
   "display_name": "venv",
   "language": "python",
   "name": "python3"
  },
  "language_info": {
   "codemirror_mode": {
    "name": "ipython",
    "version": 3
   },
   "file_extension": ".py",
   "mimetype": "text/x-python",
   "name": "python",
   "nbconvert_exporter": "python",
   "pygments_lexer": "ipython3",
   "version": "3.10.10"
  },
  "orig_nbformat": 4
 },
 "nbformat": 4,
 "nbformat_minor": 2
}
