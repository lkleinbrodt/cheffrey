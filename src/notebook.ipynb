{
    "cells": [
        {
            "cell_type": "code",
            "execution_count": 1,
            "metadata": {},
            "outputs": [
                {
                    "name": "stdout",
                    "output_type": "stream",
                    "text": [
                        "ROOT: /Users/lando/Projects/cheffrey\n"
                    ]
                },
                {
                    "name": "stderr",
                    "output_type": "stream",
                    "text": [
                        "2023-05-29 16:34:35.846 \n",
                        "  \u001b[33m\u001b[1mWarning:\u001b[0m to view this Streamlit app on a browser, run it with the following\n",
                        "  command:\n",
                        "\n",
                        "    streamlit run /Users/lando/Projects/cheffrey/venv/lib/python3.10/site-packages/ipykernel_launcher.py [ARGUMENTS]\n"
                    ]
                }
            ],
            "source": [
                "%reload_ext autoreload\n",
                "%autoreload 2\n",
                "\n",
                "from cheffrey import *"
            ]
        },
        {
            "cell_type": "code",
            "execution_count": 2,
            "metadata": {},
            "outputs": [],
            "source": [
                "from bs4 import BeautifulSoup\n",
                "import requests\n",
                "import re"
            ]
        },
        {
            "cell_type": "code",
            "execution_count": 3,
            "metadata": {},
            "outputs": [],
            "source": [
                "base_url = 'https://www.bonappetit.com/'\n",
                "collection_url = 'https://www.bonappetit.com/simple-cooking/weeknight-meals'\n",
                "res = requests.get(collection_url)\n",
                "res.raise_for_status()\n",
                "soup = BeautifulSoup(res.text, features='lxml')\n",
                "# re.compile(r'crummy\\.com/')})\n",
                "recipe_cards = soup.find_all('a', {'href': re.compile(r'/recipe')})"
            ]
        },
        {
            "cell_type": "code",
            "execution_count": 4,
            "metadata": {},
            "outputs": [],
            "source": [
                "for card in recipe_cards:\n",
                "    extension = card.get('href')\n",
                "    url = base_url + extension\n",
                "    break"
            ]
        },
        {
            "cell_type": "code",
            "execution_count": 5,
            "metadata": {},
            "outputs": [],
            "source": [
                "from recipe_scrapers import scrape_me as scrape_recipe\n",
                "recipe = scrape_recipe(url)"
            ]
        },
        {
            "cell_type": "code",
            "execution_count": 6,
            "metadata": {},
            "outputs": [
                {
                    "data": {
                        "text/plain": [
                            "<recipe_scrapers.bonappetit.BonAppetit at 0x14957c520>"
                        ]
                    },
                    "execution_count": 6,
                    "metadata": {},
                    "output_type": "execute_result"
                }
            ],
            "source": [
                "recipe"
            ]
        },
        {
            "cell_type": "code",
            "execution_count": 8,
            "metadata": {},
            "outputs": [
                {
                    "data": {
                        "text/plain": [
                            "[]"
                        ]
                    },
                    "execution_count": 8,
                    "metadata": {},
                    "output_type": "execute_result"
                }
            ],
            "source": [
                "recipe.ingredients()"
            ]
        },
        {
            "cell_type": "code",
            "execution_count": 30,
            "metadata": {},
            "outputs": [],
            "source": [
                "import recipe_scrapers"
            ]
        },
        {
            "cell_type": "code",
            "execution_count": 31,
            "metadata": {},
            "outputs": [
                {
                    "ename": "AttributeError",
                    "evalue": "module 'recipe_scrapers' has no attribute '__version__'",
                    "output_type": "error",
                    "traceback": [
                        "\u001b[0;31m---------------------------------------------------------------------------\u001b[0m",
                        "\u001b[0;31mAttributeError\u001b[0m                            Traceback (most recent call last)",
                        "Cell \u001b[0;32mIn[31], line 1\u001b[0m\n\u001b[0;32m----> 1\u001b[0m recipe_scrapers\u001b[39m.\u001b[39;49m__version__\n",
                        "\u001b[0;31mAttributeError\u001b[0m: module 'recipe_scrapers' has no attribute '__version__'"
                    ]
                }
            ],
            "source": [
                "recipe_scrapers.__version__"
            ]
        },
        {
            "cell_type": "code",
            "execution_count": 25,
            "metadata": {},
            "outputs": [
                {
                    "ename": "TypeError",
                    "evalue": "argument of type 'NoneType' is not iterable",
                    "output_type": "error",
                    "traceback": [
                        "\u001b[0;31m---------------------------------------------------------------------------\u001b[0m",
                        "\u001b[0;31mTypeError\u001b[0m                                 Traceback (most recent call last)",
                        "Cell \u001b[0;32mIn[25], line 1\u001b[0m\n\u001b[0;32m----> 1\u001b[0m recipe \u001b[39m=\u001b[39m parse_scraped_recipe(recipe)\n",
                        "File \u001b[0;32m~/Projects/cheffrey/src/cheffrey.py:31\u001b[0m, in \u001b[0;36mparse_scraped_recipe\u001b[0;34m(recipe)\u001b[0m\n\u001b[1;32m     29\u001b[0m \u001b[39mdef\u001b[39;00m \u001b[39mparse_scraped_recipe\u001b[39m(recipe):\n\u001b[1;32m     30\u001b[0m     d \u001b[39m=\u001b[39m {\n\u001b[0;32m---> 31\u001b[0m         \u001b[39m'\u001b[39m\u001b[39mTitle\u001b[39m\u001b[39m'\u001b[39m: recipe\u001b[39m.\u001b[39;49mtitle(),\n\u001b[1;32m     32\u001b[0m         \u001b[39m'\u001b[39m\u001b[39mTime\u001b[39m\u001b[39m'\u001b[39m: recipe\u001b[39m.\u001b[39mtotal_time(),\n\u001b[1;32m     33\u001b[0m         \u001b[39m'\u001b[39m\u001b[39mYield\u001b[39m\u001b[39m'\u001b[39m: recipe\u001b[39m.\u001b[39myields(),\n\u001b[1;32m     34\u001b[0m         \u001b[39m'\u001b[39m\u001b[39mIngredients\u001b[39m\u001b[39m'\u001b[39m: recipe\u001b[39m.\u001b[39mingredients(),\n\u001b[1;32m     35\u001b[0m         \u001b[39m'\u001b[39m\u001b[39mInstructions\u001b[39m\u001b[39m'\u001b[39m: recipe\u001b[39m.\u001b[39minstructions(),\n\u001b[1;32m     36\u001b[0m         \u001b[39m'\u001b[39m\u001b[39mImage\u001b[39m\u001b[39m'\u001b[39m: recipe\u001b[39m.\u001b[39mimage(),\n\u001b[1;32m     37\u001b[0m         \u001b[39m'\u001b[39m\u001b[39mTags\u001b[39m\u001b[39m'\u001b[39m: \u001b[39mNone\u001b[39;00m\n\u001b[1;32m     38\u001b[0m     }\n\u001b[1;32m     39\u001b[0m     \u001b[39mreturn\u001b[39;00m d\n",
                        "File \u001b[0;32m~/Projects/cheffrey/venv/lib/python3.10/site-packages/recipe_scrapers/plugins/exception_handling.py:63\u001b[0m, in \u001b[0;36mExceptionHandlingPlugin.run.<locals>.decorated_method_wrapper\u001b[0;34m(self, *args, **kwargs)\u001b[0m\n\u001b[1;32m     56\u001b[0m         logger\u001b[39m.\u001b[39minfo(\n\u001b[1;32m     57\u001b[0m             \u001b[39mf\u001b[39m\u001b[39m\"\u001b[39m\u001b[39mExceptionHandlingPlugin silenced exception: \u001b[39m\u001b[39m{\u001b[39;00m\u001b[39mstr\u001b[39m(e)\u001b[39m}\u001b[39;00m\u001b[39m in \u001b[39m\u001b[39m{\u001b[39;00mclass_name\u001b[39m}\u001b[39;00m\u001b[39m.\u001b[39m\u001b[39m{\u001b[39;00mmethod_name\u001b[39m}\u001b[39;00m\u001b[39m()\u001b[39m\u001b[39m\"\u001b[39m\n\u001b[1;32m     58\u001b[0m         )\n\u001b[1;32m     60\u001b[0m         \u001b[39mreturn\u001b[39;00m settings\u001b[39m.\u001b[39mON_EXCEPTION_RETURN_VALUES\u001b[39m.\u001b[39mget(\n\u001b[1;32m     61\u001b[0m             decorated\u001b[39m.\u001b[39m\u001b[39m__name__\u001b[39m, \u001b[39mNone\u001b[39;00m\n\u001b[1;32m     62\u001b[0m         )\n\u001b[0;32m---> 63\u001b[0m \u001b[39mreturn\u001b[39;00m decorated(\u001b[39mself\u001b[39;49m, \u001b[39m*\u001b[39;49margs, \u001b[39m*\u001b[39;49m\u001b[39m*\u001b[39;49mkwargs)\n",
                        "File \u001b[0;32m~/Projects/cheffrey/venv/lib/python3.10/site-packages/recipe_scrapers/plugins/html_tags_stripper.py:74\u001b[0m, in \u001b[0;36mHTMLTagStripperPlugin.run.<locals>.decorated_method_wrapper\u001b[0;34m(self, *args, **kwargs)\u001b[0m\n\u001b[1;32m     69\u001b[0m method_name \u001b[39m=\u001b[39m decorated\u001b[39m.\u001b[39m\u001b[39m__name__\u001b[39m\n\u001b[1;32m     70\u001b[0m logger\u001b[39m.\u001b[39mdebug(\n\u001b[1;32m     71\u001b[0m     \u001b[39mf\u001b[39m\u001b[39m\"\u001b[39m\u001b[39mDecorating: \u001b[39m\u001b[39m{\u001b[39;00mclass_name\u001b[39m}\u001b[39;00m\u001b[39m.\u001b[39m\u001b[39m{\u001b[39;00mmethod_name\u001b[39m}\u001b[39;00m\u001b[39m() with HTMLTagStripperPlugin plugin.\u001b[39m\u001b[39m\"\u001b[39m\n\u001b[1;32m     72\u001b[0m )\n\u001b[0;32m---> 74\u001b[0m decorated_func_result \u001b[39m=\u001b[39m decorated(\u001b[39mself\u001b[39;49m, \u001b[39m*\u001b[39;49margs, \u001b[39m*\u001b[39;49m\u001b[39m*\u001b[39;49mkwargs)\n\u001b[1;32m     76\u001b[0m \u001b[39mif\u001b[39;00m \u001b[39mtype\u001b[39m(decorated_func_result) \u001b[39mis\u001b[39;00m \u001b[39mlist\u001b[39m:\n\u001b[1;32m     77\u001b[0m     \u001b[39mreturn\u001b[39;00m [stripper(item) \u001b[39mfor\u001b[39;00m item \u001b[39min\u001b[39;00m decorated_func_result]\n",
                        "File \u001b[0;32m~/Projects/cheffrey/venv/lib/python3.10/site-packages/recipe_scrapers/plugins/normalize_string.py:33\u001b[0m, in \u001b[0;36mNormalizeStringPlugin.run.<locals>.decorated_method_wrapper\u001b[0;34m(self, *args, **kwargs)\u001b[0m\n\u001b[1;32m     28\u001b[0m method_name \u001b[39m=\u001b[39m decorated\u001b[39m.\u001b[39m\u001b[39m__name__\u001b[39m\n\u001b[1;32m     29\u001b[0m logger\u001b[39m.\u001b[39mdebug(\n\u001b[1;32m     30\u001b[0m     \u001b[39mf\u001b[39m\u001b[39m\"\u001b[39m\u001b[39mDecorating: \u001b[39m\u001b[39m{\u001b[39;00mclass_name\u001b[39m}\u001b[39;00m\u001b[39m.\u001b[39m\u001b[39m{\u001b[39;00mmethod_name\u001b[39m}\u001b[39;00m\u001b[39m() with NormalizeStringPlugin\u001b[39m\u001b[39m\"\u001b[39m\n\u001b[1;32m     31\u001b[0m )\n\u001b[0;32m---> 33\u001b[0m \u001b[39mreturn\u001b[39;00m normalize_string(decorated(\u001b[39mself\u001b[39;49m, \u001b[39m*\u001b[39;49margs, \u001b[39m*\u001b[39;49m\u001b[39m*\u001b[39;49mkwargs))\n",
                        "File \u001b[0;32m~/Projects/cheffrey/venv/lib/python3.10/site-packages/recipe_scrapers/plugins/schemaorg_fill.py:46\u001b[0m, in \u001b[0;36mSchemaOrgFillPlugin.run.<locals>.decorated_method_wrapper\u001b[0;34m(self, *args, **kwargs)\u001b[0m\n\u001b[1;32m     42\u001b[0m logger\u001b[39m.\u001b[39mdebug(\n\u001b[1;32m     43\u001b[0m     \u001b[39mf\u001b[39m\u001b[39m\"\u001b[39m\u001b[39mDecorating: \u001b[39m\u001b[39m{\u001b[39;00mclass_name\u001b[39m}\u001b[39;00m\u001b[39m.\u001b[39m\u001b[39m{\u001b[39;00mmethod_name\u001b[39m}\u001b[39;00m\u001b[39m() with SchemaOrgFillPlugin\u001b[39m\u001b[39m\"\u001b[39m\n\u001b[1;32m     44\u001b[0m )\n\u001b[1;32m     45\u001b[0m \u001b[39mtry\u001b[39;00m:\n\u001b[0;32m---> 46\u001b[0m     \u001b[39mreturn\u001b[39;00m decorated(\u001b[39mself\u001b[39;49m, \u001b[39m*\u001b[39;49margs, \u001b[39m*\u001b[39;49m\u001b[39m*\u001b[39;49mkwargs)\n\u001b[1;32m     47\u001b[0m \u001b[39mexcept\u001b[39;00m \u001b[39mNotImplementedError\u001b[39;00m \u001b[39mas\u001b[39;00m e:\n\u001b[1;32m     48\u001b[0m     function \u001b[39m=\u001b[39m \u001b[39mgetattr\u001b[39m(\u001b[39mself\u001b[39m\u001b[39m.\u001b[39mschema, decorated\u001b[39m.\u001b[39m\u001b[39m__name__\u001b[39m)\n",
                        "File \u001b[0;32m~/Projects/cheffrey/venv/lib/python3.10/site-packages/recipe_scrapers/bonappetit.py:10\u001b[0m, in \u001b[0;36mBonAppetit.title\u001b[0;34m(self)\u001b[0m\n\u001b[1;32m      9\u001b[0m \u001b[39mdef\u001b[39;00m \u001b[39mtitle\u001b[39m(\u001b[39mself\u001b[39m):\n\u001b[0;32m---> 10\u001b[0m     \u001b[39mreturn\u001b[39;00m \u001b[39mself\u001b[39;49m\u001b[39m.\u001b[39;49mschema\u001b[39m.\u001b[39;49mtitle()\n",
                        "File \u001b[0;32m~/Projects/cheffrey/venv/lib/python3.10/site-packages/recipe_scrapers/_schemaorg.py:52\u001b[0m, in \u001b[0;36mSchemaOrg.title\u001b[0;34m(self)\u001b[0m\n\u001b[1;32m     51\u001b[0m \u001b[39mdef\u001b[39;00m \u001b[39mtitle\u001b[39m(\u001b[39mself\u001b[39m):\n\u001b[0;32m---> 52\u001b[0m     \u001b[39mreturn\u001b[39;00m normalize_string(\u001b[39mself\u001b[39;49m\u001b[39m.\u001b[39;49mdata\u001b[39m.\u001b[39;49mget(\u001b[39m\"\u001b[39;49m\u001b[39mname\u001b[39;49m\u001b[39m\"\u001b[39;49m))\n",
                        "File \u001b[0;32m~/Projects/cheffrey/venv/lib/python3.10/site-packages/recipe_scrapers/_utils.py:86\u001b[0m, in \u001b[0;36mnormalize_string\u001b[0;34m(string)\u001b[0m\n\u001b[1;32m     84\u001b[0m \u001b[39mdef\u001b[39;00m \u001b[39mnormalize_string\u001b[39m(string):\n\u001b[1;32m     85\u001b[0m     \u001b[39m# Convert all named and numeric character references (e.g. &gt;, &#62;)\u001b[39;00m\n\u001b[0;32m---> 86\u001b[0m     unescaped_string \u001b[39m=\u001b[39m html\u001b[39m.\u001b[39;49munescape(string)\n\u001b[1;32m     87\u001b[0m     \u001b[39mreturn\u001b[39;00m re\u001b[39m.\u001b[39msub(\n\u001b[1;32m     88\u001b[0m         \u001b[39mr\u001b[39m\u001b[39m\"\u001b[39m\u001b[39m\\\u001b[39m\u001b[39ms+\u001b[39m\u001b[39m\"\u001b[39m,\n\u001b[1;32m     89\u001b[0m         \u001b[39m\"\u001b[39m\u001b[39m \u001b[39m\u001b[39m\"\u001b[39m,\n\u001b[0;32m   (...)\u001b[0m\n\u001b[1;32m     93\u001b[0m         \u001b[39m.\u001b[39mstrip(),\n\u001b[1;32m     94\u001b[0m     )\n",
                        "File \u001b[0;32m/Library/Frameworks/Python.framework/Versions/3.10/lib/python3.10/html/__init__.py:130\u001b[0m, in \u001b[0;36munescape\u001b[0;34m(s)\u001b[0m\n\u001b[1;32m    122\u001b[0m \u001b[39mdef\u001b[39;00m \u001b[39munescape\u001b[39m(s):\n\u001b[1;32m    123\u001b[0m \u001b[39m    \u001b[39m\u001b[39m\"\"\"\u001b[39;00m\n\u001b[1;32m    124\u001b[0m \u001b[39m    Convert all named and numeric character references (e.g. &gt;, &#62;,\u001b[39;00m\n\u001b[1;32m    125\u001b[0m \u001b[39m    &x3e;) in the string s to the corresponding unicode characters.\u001b[39;00m\n\u001b[0;32m   (...)\u001b[0m\n\u001b[1;32m    128\u001b[0m \u001b[39m    HTML 5 named character references defined in html.entities.html5.\u001b[39;00m\n\u001b[1;32m    129\u001b[0m \u001b[39m    \"\"\"\u001b[39;00m\n\u001b[0;32m--> 130\u001b[0m     \u001b[39mif\u001b[39;00m \u001b[39m'\u001b[39;49m\u001b[39m&\u001b[39;49m\u001b[39m'\u001b[39;49m \u001b[39mnot\u001b[39;49;00m \u001b[39min\u001b[39;49;00m s:\n\u001b[1;32m    131\u001b[0m         \u001b[39mreturn\u001b[39;00m s\n\u001b[1;32m    132\u001b[0m     \u001b[39mreturn\u001b[39;00m _charref\u001b[39m.\u001b[39msub(_replace_charref, s)\n",
                        "\u001b[0;31mTypeError\u001b[0m: argument of type 'NoneType' is not iterable"
                    ]
                }
            ],
            "source": [
                "recipe = parse_scraped_recipe(recipe)"
            ]
        },
        {
            "cell_type": "code",
            "execution_count": null,
            "metadata": {},
            "outputs": [],
            "source": []
        },
        {
            "cell_type": "code",
            "execution_count": null,
            "metadata": {},
            "outputs": [],
            "source": []
        },
        {
            "cell_type": "code",
            "execution_count": null,
            "metadata": {},
            "outputs": [],
            "source": []
        },
        {
            "cell_type": "code",
            "execution_count": null,
            "metadata": {},
            "outputs": [],
            "source": []
        },
        {
            "cell_type": "code",
            "execution_count": null,
            "metadata": {},
            "outputs": [],
            "source": []
        },
        {
            "cell_type": "code",
            "execution_count": 68,
            "metadata": {},
            "outputs": [],
            "source": [
                "import requests\n",
                "\n",
                "text = 'This is an example text'\n",
                "payload = {'text': text}\n",
                "\n",
                "response = requests.post('http://127.0.0.1:5000/embeddings', json=payload)\n",
                "embeddings = response.json()['embedding']\n"
            ]
        },
        {
            "cell_type": "code",
            "execution_count": 69,
            "metadata": {},
            "outputs": [
                {
                    "data": {
                        "text/plain": [
                            "[0.09952481091022491,\n",
                            " 0.09577660262584686,\n",
                            " -0.049591001123189926,\n",
                            " 0.030377203598618507,\n",
                            " 0.0006438017007894814,\n",
                            " 0.06861480325460434,\n",
                            " -0.057482797652482986,\n",
                            " -0.043933797627687454,\n",
                            " 0.07018479704856873,\n",
                            " 0.08737300336360931,\n",
                            " -0.01284520048648119,\n",
                            " 0.057590801268815994,\n",
                            " -0.004678198602050543,\n",
                            " 0.01521419920027256,\n",
                            " 0.0425914004445076,\n",
                            " -0.07874179631471634,\n",
                            " -0.09506360441446304,\n",
                            " 0.15530480444431305,\n",
                            " 0.05475320294499397,\n",
                            " 0.12906040251255035,\n",
                            " 0.08557640016078949,\n",
                            " -0.011621200479567051,\n",
                            " 0.00729060173034668,\n",
                            " 0.044811200350522995,\n",
                            " -0.012945795431733131,\n",
                            " -0.01105480082333088,\n",
                            " 0.04157999902963638,\n",
                            " 0.14465419948101044,\n",
                            " -0.03541319817304611,\n",
                            " 0.09722740203142166,\n",
                            " -0.022753801196813583,\n",
                            " -0.0781388059258461,\n",
                            " -0.006385599263012409,\n",
                            " -0.01867780089378357,\n",
                            " 0.005337399430572987,\n",
                            " 0.11164478957653046,\n",
                            " 0.06194800138473511,\n",
                            " -0.04601920396089554,\n",
                            " 0.046879999339580536,\n",
                            " 0.033721599727869034,\n",
                            " 0.030182400718331337,\n",
                            " -0.06928399950265884,\n",
                            " -0.004705002997070551,\n",
                            " -0.07205220311880112,\n",
                            " 0.01914840005338192,\n",
                            " -0.08267000317573547,\n",
                            " -0.016234003007411957,\n",
                            " -0.07443280518054962,\n",
                            " -0.05047880485653877,\n",
                            " -0.001598599599674344,\n",
                            " 0.0845147892832756,\n",
                            " 0.09063200652599335,\n",
                            " -0.04808880016207695,\n",
                            " -0.0003711998579092324,\n",
                            " -0.10072340071201324,\n",
                            " -0.08272739499807358,\n",
                            " -0.026380199939012527,\n",
                            " -0.027112603187561035,\n",
                            " 0.03626680374145508,\n",
                            " 0.06900779902935028,\n",
                            " -0.022460201755166054,\n",
                            " -0.04346499592065811,\n",
                            " -0.08846619725227356,\n",
                            " -0.0385637991130352,\n",
                            " -0.09841980040073395,\n",
                            " 0.08753299713134766,\n",
                            " 0.014064600691199303,\n",
                            " 0.09526419639587402,\n",
                            " 0.09808019548654556,\n",
                            " -0.030744001269340515,\n",
                            " 0.004901002161204815,\n",
                            " 0.021122198551893234,\n",
                            " -0.020759202539920807,\n",
                            " 0.08235879987478256,\n",
                            " -0.10057759284973145,\n",
                            " 0.009661599062383175,\n",
                            " -0.11172918975353241,\n",
                            " -0.005956599023193121,\n",
                            " 0.08489800244569778,\n",
                            " 0.0390206016600132,\n",
                            " 0.13242939114570618,\n",
                            " 0.006491801235824823,\n",
                            " 0.047641802579164505,\n",
                            " 0.008898800238966942,\n",
                            " -0.1741729974746704,\n",
                            " -0.013952599838376045,\n",
                            " -0.06812340021133423,\n",
                            " 0.10509560257196426,\n",
                            " -0.0018561988836154342,\n",
                            " -0.07903540134429932,\n",
                            " 0.09827940165996552,\n",
                            " -0.0015734017360955477,\n",
                            " 0.02417439967393875,\n",
                            " 0.06836959719657898,\n",
                            " -0.009969200007617474,\n",
                            " -0.04802419990301132,\n",
                            " -0.09693799912929535,\n",
                            " 0.022231804206967354,\n",
                            " -0.04482780024409294,\n",
                            " 0.04510959982872009,\n",
                            " -0.05810920149087906,\n",
                            " 0.10001380741596222,\n",
                            " -0.08400360494852066,\n",
                            " -0.008667001500725746,\n",
                            " 0.02757660113275051,\n",
                            " -0.038108401000499725,\n",
                            " -0.13471081852912903,\n",
                            " 0.06767340004444122,\n",
                            " 0.021083200350403786,\n",
                            " -0.04672560095787048,\n",
                            " -0.028959199786186218,\n",
                            " 0.07958979904651642,\n",
                            " 0.0739033967256546,\n",
                            " 0.02732819877564907,\n",
                            " 0.04291340336203575,\n",
                            " -0.11984960734844208,\n",
                            " -0.02210020087659359,\n",
                            " 0.04097399860620499,\n",
                            " -0.06599340587854385,\n",
                            " -0.06124500185251236,\n",
                            " 0.0615152046084404,\n",
                            " -0.032803602516651154,\n",
                            " 0.056503403931856155,\n",
                            " -0.0022672011982649565,\n",
                            " -0.04153919965028763,\n",
                            " 0.015172600746154785,\n",
                            " -0.01810320094227791,\n",
                            " 0.060573600232601166,\n",
                            " -0.04612479731440544,\n",
                            " 0.000712199485860765,\n",
                            " 0.11087159812450409,\n",
                            " -0.10710859298706055,\n",
                            " -0.012073400430381298,\n",
                            " -0.0565497986972332,\n",
                            " -0.1133657917380333,\n",
                            " 0.04644560068845749,\n",
                            " -0.029482200741767883,\n",
                            " -0.15740899741649628,\n",
                            " 0.013447599485516548,\n",
                            " -0.0038698003627359867,\n",
                            " 0.049192801117897034,\n",
                            " -0.10988599061965942,\n",
                            " -0.02349519170820713,\n",
                            " -0.01061719935387373,\n",
                            " 0.024832798168063164,\n",
                            " -0.06821060180664062,\n",
                            " -0.029856998473405838,\n",
                            " -0.024762798100709915,\n",
                            " -0.017785999923944473,\n",
                            " 0.193477600812912,\n",
                            " -0.10295701026916504,\n",
                            " 0.041904203593730927,\n",
                            " 0.09212219715118408,\n",
                            " -0.125450000166893,\n",
                            " 0.01739479973912239,\n",
                            " -0.022478200495243073,\n",
                            " -0.09663180261850357,\n",
                            " 0.03317379578948021,\n",
                            " -0.11793480068445206,\n",
                            " 0.06578059494495392,\n",
                            " 0.04630320146679878,\n",
                            " 0.07545479387044907,\n",
                            " 0.007457600440829992,\n",
                            " -0.00880659930408001,\n",
                            " -0.07482559978961945,\n",
                            " -0.009853800758719444,\n",
                            " -0.009192198514938354,\n",
                            " -0.06352979689836502,\n",
                            " 0.02294899895787239,\n",
                            " 0.021231401711702347,\n",
                            " 0.014925399795174599,\n",
                            " 0.18466761708259583,\n",
                            " 0.03571220114827156,\n",
                            " 0.031812798231840134,\n",
                            " -0.040671199560165405,\n",
                            " 0.04311459884047508,\n",
                            " -0.1534917950630188,\n",
                            " -0.04667339846491814,\n",
                            " -0.06250838935375214,\n",
                            " -0.06350700557231903,\n",
                            " 0.08785499632358551,\n",
                            " 0.05808420106768608,\n",
                            " -0.012744998559355736,\n",
                            " 0.06999820470809937,\n",
                            " -0.036577194929122925,\n",
                            " -0.03109540045261383,\n",
                            " -0.18008920550346375,\n",
                            " 0.09564820677042007,\n",
                            " -0.08415000140666962,\n",
                            " -0.019789597019553185,\n",
                            " 0.1570086032152176,\n",
                            " -0.02507620118558407,\n",
                            " -0.028698798269033432,\n",
                            " -0.0898476094007492,\n",
                            " 0.11690159887075424,\n",
                            " 0.02411000058054924,\n",
                            " -0.05361180379986763,\n",
                            " -0.07840259373188019,\n",
                            " 0.0038509995210915804,\n",
                            " -0.17150577902793884,\n",
                            " 0.06030399724841118,\n",
                            " 0.015442803502082825,\n",
                            " 0.1516321897506714,\n",
                            " 0.09583179652690887,\n",
                            " 0.013151401653885841,\n",
                            " -0.0754896029829979,\n",
                            " 0.008340400643646717,\n",
                            " 0.017909999936819077,\n",
                            " -0.10300439596176147,\n",
                            " 0.06628739833831787,\n",
                            " -0.07444339990615845,\n",
                            " 0.04847640171647072,\n",
                            " 0.05754359811544418,\n",
                            " 0.045849598944187164,\n",
                            " -0.0608334019780159,\n",
                            " -0.17405538260936737,\n",
                            " 0.109375,\n",
                            " 0.10727719962596893,\n",
                            " 0.10743620246648788,\n",
                            " -0.06682639569044113,\n",
                            " 0.014088000170886517,\n",
                            " -0.07173240184783936,\n",
                            " -0.16513881087303162,\n",
                            " 0.023548001423478127,\n",
                            " -0.0966344103217125,\n",
                            " -0.03992099687457085,\n",
                            " 0.08556919544935226,\n",
                            " -0.09130380302667618,\n",
                            " 0.03238179534673691,\n",
                            " -0.05889059975743294,\n",
                            " -0.06031759828329086,\n",
                            " -0.04715999960899353,\n",
                            " 0.1329900026321411,\n",
                            " -0.06058599799871445,\n",
                            " -0.024651000276207924,\n",
                            " -0.024248400703072548,\n",
                            " 0.03431139886379242,\n",
                            " 0.0011319995392113924,\n",
                            " -0.0439676009118557,\n",
                            " -0.029432600364089012,\n",
                            " 0.10878338664770126,\n",
                            " 0.07973740249872208,\n",
                            " -0.08536700159311295,\n",
                            " -0.0700984001159668,\n",
                            " -0.031254999339580536,\n",
                            " 0.06720119714736938,\n",
                            " -0.1128288060426712,\n",
                            " -0.08622139692306519,\n",
                            " -0.054147202521562576,\n",
                            " -0.03848320245742798,\n",
                            " -0.06208980083465576,\n",
                            " -0.006975400261580944,\n",
                            " 0.04061800241470337,\n",
                            " 0.07765539735555649,\n",
                            " 0.10245800018310547,\n",
                            " -0.014256799593567848,\n",
                            " 0.02669600024819374,\n",
                            " -0.017156001180410385,\n",
                            " -0.07257239520549774,\n",
                            " 0.009524999186396599,\n",
                            " -0.005655199289321899,\n",
                            " -0.11088879406452179,\n",
                            " 0.08447039872407913,\n",
                            " -0.18325839936733246,\n",
                            " -0.04218300059437752,\n",
                            " 0.07377679646015167,\n",
                            " -0.07016599923372269,\n",
                            " 0.07891859859228134,\n",
                            " 0.057874202728271484,\n",
                            " 0.03547840192914009,\n",
                            " 0.046073198318481445,\n",
                            " 0.0026006042025983334,\n",
                            " 0.07976220548152924,\n",
                            " -0.027734797447919846,\n",
                            " -0.16893179714679718,\n",
                            " -0.04064220190048218,\n",
                            " -0.019714798778295517,\n",
                            " 0.035023998469114304,\n",
                            " 0.05319300293922424,\n",
                            " 0.07127639651298523,\n",
                            " 0.026908401399850845,\n",
                            " 0.021812599152326584,\n",
                            " 0.044869400560855865,\n",
                            " 0.026651199907064438,\n",
                            " 0.06953300535678864,\n",
                            " 0.0014992005890235305,\n",
                            " -0.06875959783792496,\n",
                            " 0.006830200552940369,\n",
                            " -0.011251200921833515,\n",
                            " -0.062049996107816696,\n",
                            " -0.0627535954117775,\n",
                            " 0.00960440281778574,\n",
                            " -0.0707273930311203,\n",
                            " -0.042867399752140045,\n",
                            " 0.03602920100092888,\n",
                            " 0.05817420408129692,\n",
                            " -0.008434399031102657,\n",
                            " -0.08892880380153656,\n",
                            " -0.039034198969602585,\n",
                            " 0.0003909990191459656]"
                        ]
                    },
                    "execution_count": 69,
                    "metadata": {},
                    "output_type": "execute_result"
                }
            ],
            "source": [
                "embeddings"
            ]
        },
        {
            "cell_type": "code",
            "execution_count": 65,
            "metadata": {},
            "outputs": [],
            "source": [
                "all_ingredients = [item for recipe in list(master_recipes.values())[:5] for item in recipe['Ingredients']]"
            ]
        },
        {
            "cell_type": "code",
            "execution_count": 66,
            "metadata": {},
            "outputs": [
                {
                    "data": {
                        "text/plain": [
                            "1537"
                        ]
                    },
                    "execution_count": 66,
                    "metadata": {},
                    "output_type": "execute_result"
                }
            ],
            "source": [
                "len('\\n'.join(all_ingredients))"
            ]
        },
        {
            "cell_type": "code",
            "execution_count": 18,
            "metadata": {},
            "outputs": [
                {
                    "data": {
                        "text/plain": [
                            "'- 3 lbs chicken thighs\\n- 1/4 lb unsalted butter\\n- 4 tsp neutral oil (vegetable/canola oil)\\n- 2 medium-size yellow onions\\n- 4 cloves garlic\\n- 3 tbsp fresh ginger\\n- 1 tbsp cumin seeds\\n- 1 cinnamon stick\\n- 2 medium-size tomatoes\\n- 2 red chiles (Anaheim) or 1 jalapeño pepper\\n- Kosher salt\\n- 2/3 cup chicken stock\\n- 1 1/2 cups cream\\n- 1 1/2 tsp tomato paste\\n- 3 tbsp ground almonds or finely chopped almonds\\n- 1/2 bunch cilantro leaves\\n- 4 tsp lemon juice\\n- 1 (16-ounce) jar tahini\\n- 1 to 1 1/2 cups ice water\\n- 2 (15-ounce) cans chickpeas\\n- 4 to 6 bacon slices\\n- 1 lb Brussels sprouts\\n- 3 tbsp extra-virgin olive oil\\n- 2 garlic cloves\\n- 1/4 cup balsamic vinegar\\n- 1 tsp fresh lime juice\\n- 1/2 tsp soy sauce\\n- 1 large boneless, skinless chicken breast\\n- Freshly cracked black pepper\\n- 2 tsp light brown sugar\\n- 1 tbsp rice vinegar\\n- Lime wedge (optional)'"
                        ]
                    },
                    "execution_count": 18,
                    "metadata": {},
                    "output_type": "execute_result"
                }
            ],
            "source": [
                "response = openai.ChatCompletion.create(\n",
                "  model=\"gpt-3.5-turbo\",\n",
                "  messages=[\n",
                "        {\"role\": \"system\", \"content\": \"You are a helpful assistant chef. You will be given a list of ingredients and you will return a shopping list. Only return the shopping list, with no additional commentary. Separate each ingredient with a '\\n' character\"},\n",
                "        {\"role\": \"user\", \"content\": \"Given a list of ingredients, create a shopping list. The shopping list should consolidate identical ingredients by adding them together. The shopping list should account for EVERY ingredient in the input list, do not delete anything. Your response should just contain the shopping list, with no additional commentary. Separate each ingredient with a '\\n' character. Here is the list of ingredients:\" + '\\n'.join(all_ingredients)},\n",
                "    ]\n",
                ")\n",
                "response['choices'][0]['message']['content']"
            ]
        },
        {
            "cell_type": "code",
            "execution_count": null,
            "metadata": {},
            "outputs": [],
            "source": []
        },
        {
            "cell_type": "code",
            "execution_count": 24,
            "metadata": {},
            "outputs": [
                {
                    "data": {
                        "text/plain": [
                            "['- 3 lbs chicken thighs',\n",
                            " '- 1/4 lb unsalted butter',\n",
                            " '- 4 tsp neutral oil (vegetable/canola oil)',\n",
                            " '- 2 medium-size yellow onions',\n",
                            " '- 4 cloves garlic',\n",
                            " '- 3 tbsp fresh ginger',\n",
                            " '- 1 tbsp cumin seeds',\n",
                            " '- 1 cinnamon stick',\n",
                            " '- 2 medium-size tomatoes',\n",
                            " '- 2 red chiles (Anaheim) or 1 jalapeño pepper',\n",
                            " '- Kosher salt',\n",
                            " '- 2/3 cup chicken stock',\n",
                            " '- 1 1/2 cups cream',\n",
                            " '- 1 1/2 tsp tomato paste',\n",
                            " '- 3 tbsp ground almonds or finely chopped almonds',\n",
                            " '- 1/2 bunch cilantro leaves',\n",
                            " '- 4 tsp lemon juice',\n",
                            " '- 1 (16-ounce) jar tahini',\n",
                            " '- 1 to 1 1/2 cups ice water',\n",
                            " '- 2 (15-ounce) cans chickpeas',\n",
                            " '- 4 to 6 bacon slices',\n",
                            " '- 1 lb Brussels sprouts',\n",
                            " '- 3 tbsp extra-virgin olive oil',\n",
                            " '- 2 garlic cloves',\n",
                            " '- 1/4 cup balsamic vinegar',\n",
                            " '- 1 tsp fresh lime juice',\n",
                            " '- 1/2 tsp soy sauce',\n",
                            " '- 1 large boneless, skinless chicken breast',\n",
                            " '- Freshly cracked black pepper',\n",
                            " '- 2 tsp light brown sugar',\n",
                            " '- 1 tbsp rice vinegar',\n",
                            " '- Lime wedge (optional)']"
                        ]
                    },
                    "execution_count": 24,
                    "metadata": {},
                    "output_type": "execute_result"
                }
            ],
            "source": [
                "response['choices'][0]['message']['content'].split('\\n')"
            ]
        },
        {
            "cell_type": "code",
            "execution_count": 22,
            "metadata": {},
            "outputs": [
                {
                    "data": {
                        "text/plain": [
                            "44"
                        ]
                    },
                    "execution_count": 22,
                    "metadata": {},
                    "output_type": "execute_result"
                }
            ],
            "source": [
                "len(all_ingredients)"
            ]
        },
        {
            "cell_type": "code",
            "execution_count": 23,
            "metadata": {},
            "outputs": [
                {
                    "data": {
                        "text/plain": [
                            "['1 1/2 cups full-fat Greek yogurt',\n",
                            " '2 tablespoons lemon juice',\n",
                            " '1 1/2 tablespoons ground turmeric',\n",
                            " '2 tablespoons garam masala',\n",
                            " '2 tablespoons ground cumin',\n",
                            " '3 pounds chicken thighs, on the bone',\n",
                            " '1/4 pound unsalted butter',\n",
                            " '4 teaspoons neutral oil, like vegetable or canola oil',\n",
                            " '2 medium-size yellow onions, peeled and diced',\n",
                            " '4 cloves garlic, peeled and minced',\n",
                            " '3 tablespoons fresh ginger, peeled and grated or finely diced',\n",
                            " '1 tablespoon cumin seeds',\n",
                            " '1 cinnamon stick',\n",
                            " '2 medium-size tomatoes, diced',\n",
                            " '2 red chiles, like Anaheim, or 1 jalapeño pepper, seeded and diced',\n",
                            " 'Kosher salt to taste',\n",
                            " '2/3 cup chicken stock, low-sodium or homemade',\n",
                            " '1 1/2 cups cream',\n",
                            " '1 1/2 teaspoons tomato paste',\n",
                            " '3 tablespoons ground almonds, or finely chopped almonds',\n",
                            " '1/2 bunch cilantro leaves, stems removed.',\n",
                            " '1/4 garlic clove',\n",
                            " 'Juice of 1 lemon, about 1/4 cup',\n",
                            " '1 (16-ounce) jar tahini',\n",
                            " '1 tablespoon kosher salt',\n",
                            " '1 teaspoon ground cumin',\n",
                            " '1 to 1 1/2 cups ice water',\n",
                            " '2 (15-ounce) cans chickpeas, drained and rinsed',\n",
                            " '4 to 6 bacon slices, depending on size of air fryer basket',\n",
                            " '1 pound brussels sprouts, trimmed and halved through the stems (cut larger ones in quarters)',\n",
                            " '3 tablespoons extra-virgin olive oil',\n",
                            " '1/4 teaspoon kosher salt',\n",
                            " '2 garlic cloves, thinly sliced',\n",
                            " '1/4 cup balsamic vinegar',\n",
                            " '1 teaspoon fresh lime juice, plus more for serving',\n",
                            " '1/2 teaspoon soy sauce',\n",
                            " '1 large boneless, skinless chicken breast (about 11 ounces)',\n",
                            " 'Salt',\n",
                            " 'Freshly cracked black pepper',\n",
                            " '2 teaspoons light brown sugar',\n",
                            " '1 tablespoon rice vinegar',\n",
                            " '1 tablespoon low-sodium soy sauce',\n",
                            " '2 teaspoons olive oil',\n",
                            " 'Lime wedge (optional), for serving']"
                        ]
                    },
                    "execution_count": 23,
                    "metadata": {},
                    "output_type": "execute_result"
                }
            ],
            "source": [
                "all_ingredients"
            ]
        },
        {
            "cell_type": "code",
            "execution_count": null,
            "metadata": {},
            "outputs": [],
            "source": []
        }
    ],
    "metadata": {
        "kernelspec": {
            "display_name": "Python 3.8.10 ('cheffrey')",
            "language": "python",
            "name": "python3"
        },
        "language_info": {
            "codemirror_mode": {
                "name": "ipython",
                "version": 3
            },
            "file_extension": ".py",
            "mimetype": "text/x-python",
            "name": "python",
            "nbconvert_exporter": "python",
            "pygments_lexer": "ipython3",
            "version": "3.10.9"
        },
        "orig_nbformat": 4,
        "vscode": {
            "interpreter": {
                "hash": "f2eb2383e1a9e49dae3cc5705924ea2b1e83f64a3778a0e0de554c91b86b36e7"
            }
        }
    },
    "nbformat": 4,
    "nbformat_minor": 2
}
