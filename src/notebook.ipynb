{
    "cells": [
        {
            "cell_type": "code",
            "execution_count": 1,
            "metadata": {},
            "outputs": [
                {
                    "name": "stderr",
                    "output_type": "stream",
                    "text": [
                        "2023-08-28 16:16:16.179 \n",
                        "  \u001b[33m\u001b[1mWarning:\u001b[0m to view this Streamlit app on a browser, run it with the following\n",
                        "  command:\n",
                        "\n",
                        "    streamlit run /Users/lando/Projects/cheffrey/venv/lib/python3.10/site-packages/ipykernel_launcher.py [ARGUMENTS]\n"
                    ]
                },
                {
                    "data": {
                        "text/plain": [
                            "True"
                        ]
                    },
                    "execution_count": 1,
                    "metadata": {},
                    "output_type": "execute_result"
                }
            ],
            "source": [
                "%load_ext autoreload\n",
                "%autoreload 2\n",
                "import numpy as np\n",
                "import re\n",
                "import os\n",
                "import boto3\n",
                "import gensim\n",
                "from dotenv import load_dotenv\n",
                "import cheffrey\n",
                "from dataloader import S3Loader\n",
                "load_dotenv()\n"
            ]
        },
        {
            "cell_type": "code",
            "execution_count": 2,
            "metadata": {},
            "outputs": [],
            "source": [
                "import gensim"
            ]
        },
        {
            "cell_type": "code",
            "execution_count": null,
            "metadata": {},
            "outputs": [],
            "source": [
                "gensim.mode"
            ]
        },
        {
            "cell_type": "code",
            "execution_count": 2,
            "metadata": {},
            "outputs": [],
            "source": [
                "s3 = S3Loader()"
            ]
        },
        {
            "cell_type": "code",
            "execution_count": 11,
            "metadata": {},
            "outputs": [
                {
                    "ename": "ValueError",
                    "evalue": "invalid literal for int() with base 10: '<user>'",
                    "output_type": "error",
                    "traceback": [
                        "\u001b[0;31m---------------------------------------------------------------------------\u001b[0m",
                        "\u001b[0;31mValueError\u001b[0m                                Traceback (most recent call last)",
                        "Cell \u001b[0;32mIn[11], line 1\u001b[0m\n\u001b[0;32m----> 1\u001b[0m gensim\u001b[39m.\u001b[39;49mmodels\u001b[39m.\u001b[39;49mKeyedVectors\u001b[39m.\u001b[39;49mload_word2vec_format(\u001b[39m'\u001b[39;49m\u001b[39m/Users/lando/Downloads/glove/glove.twitter.27B.100d.txt\u001b[39;49m\u001b[39m'\u001b[39;49m, binary\u001b[39m=\u001b[39;49m\u001b[39mTrue\u001b[39;49;00m)\n",
                        "File \u001b[0;32m~/Projects/cheffrey/venv/lib/python3.10/site-packages/gensim/models/keyedvectors.py:1719\u001b[0m, in \u001b[0;36mKeyedVectors.load_word2vec_format\u001b[0;34m(cls, fname, fvocab, binary, encoding, unicode_errors, limit, datatype, no_header)\u001b[0m\n\u001b[1;32m   1672\u001b[0m \u001b[39m@classmethod\u001b[39m\n\u001b[1;32m   1673\u001b[0m \u001b[39mdef\u001b[39;00m \u001b[39mload_word2vec_format\u001b[39m(\n\u001b[1;32m   1674\u001b[0m         \u001b[39mcls\u001b[39m, fname, fvocab\u001b[39m=\u001b[39m\u001b[39mNone\u001b[39;00m, binary\u001b[39m=\u001b[39m\u001b[39mFalse\u001b[39;00m, encoding\u001b[39m=\u001b[39m\u001b[39m'\u001b[39m\u001b[39mutf8\u001b[39m\u001b[39m'\u001b[39m, unicode_errors\u001b[39m=\u001b[39m\u001b[39m'\u001b[39m\u001b[39mstrict\u001b[39m\u001b[39m'\u001b[39m,\n\u001b[1;32m   1675\u001b[0m         limit\u001b[39m=\u001b[39m\u001b[39mNone\u001b[39;00m, datatype\u001b[39m=\u001b[39mREAL, no_header\u001b[39m=\u001b[39m\u001b[39mFalse\u001b[39;00m,\n\u001b[1;32m   1676\u001b[0m     ):\n\u001b[1;32m   1677\u001b[0m \u001b[39m    \u001b[39m\u001b[39m\"\"\"Load KeyedVectors from a file produced by the original C word2vec-tool format.\u001b[39;00m\n\u001b[1;32m   1678\u001b[0m \n\u001b[1;32m   1679\u001b[0m \u001b[39m    Warnings\u001b[39;00m\n\u001b[0;32m   (...)\u001b[0m\n\u001b[1;32m   1717\u001b[0m \n\u001b[1;32m   1718\u001b[0m \u001b[39m    \"\"\"\u001b[39;00m\n\u001b[0;32m-> 1719\u001b[0m     \u001b[39mreturn\u001b[39;00m _load_word2vec_format(\n\u001b[1;32m   1720\u001b[0m         \u001b[39mcls\u001b[39;49m, fname, fvocab\u001b[39m=\u001b[39;49mfvocab, binary\u001b[39m=\u001b[39;49mbinary, encoding\u001b[39m=\u001b[39;49mencoding, unicode_errors\u001b[39m=\u001b[39;49municode_errors,\n\u001b[1;32m   1721\u001b[0m         limit\u001b[39m=\u001b[39;49mlimit, datatype\u001b[39m=\u001b[39;49mdatatype, no_header\u001b[39m=\u001b[39;49mno_header,\n\u001b[1;32m   1722\u001b[0m     )\n",
                        "File \u001b[0;32m~/Projects/cheffrey/venv/lib/python3.10/site-packages/gensim/models/keyedvectors.py:2059\u001b[0m, in \u001b[0;36m_load_word2vec_format\u001b[0;34m(cls, fname, fvocab, binary, encoding, unicode_errors, limit, datatype, no_header, binary_chunk_size)\u001b[0m\n\u001b[1;32m   2057\u001b[0m \u001b[39melse\u001b[39;00m:\n\u001b[1;32m   2058\u001b[0m     header \u001b[39m=\u001b[39m utils\u001b[39m.\u001b[39mto_unicode(fin\u001b[39m.\u001b[39mreadline(), encoding\u001b[39m=\u001b[39mencoding)\n\u001b[0;32m-> 2059\u001b[0m     vocab_size, vector_size \u001b[39m=\u001b[39m [\u001b[39mint\u001b[39m(x) \u001b[39mfor\u001b[39;00m x \u001b[39min\u001b[39;00m header\u001b[39m.\u001b[39msplit()]  \u001b[39m# throws for invalid file format\u001b[39;00m\n\u001b[1;32m   2060\u001b[0m \u001b[39mif\u001b[39;00m limit:\n\u001b[1;32m   2061\u001b[0m     vocab_size \u001b[39m=\u001b[39m \u001b[39mmin\u001b[39m(vocab_size, limit)\n",
                        "File \u001b[0;32m~/Projects/cheffrey/venv/lib/python3.10/site-packages/gensim/models/keyedvectors.py:2059\u001b[0m, in \u001b[0;36m<listcomp>\u001b[0;34m(.0)\u001b[0m\n\u001b[1;32m   2057\u001b[0m \u001b[39melse\u001b[39;00m:\n\u001b[1;32m   2058\u001b[0m     header \u001b[39m=\u001b[39m utils\u001b[39m.\u001b[39mto_unicode(fin\u001b[39m.\u001b[39mreadline(), encoding\u001b[39m=\u001b[39mencoding)\n\u001b[0;32m-> 2059\u001b[0m     vocab_size, vector_size \u001b[39m=\u001b[39m [\u001b[39mint\u001b[39;49m(x) \u001b[39mfor\u001b[39;00m x \u001b[39min\u001b[39;00m header\u001b[39m.\u001b[39msplit()]  \u001b[39m# throws for invalid file format\u001b[39;00m\n\u001b[1;32m   2060\u001b[0m \u001b[39mif\u001b[39;00m limit:\n\u001b[1;32m   2061\u001b[0m     vocab_size \u001b[39m=\u001b[39m \u001b[39mmin\u001b[39m(vocab_size, limit)\n",
                        "\u001b[0;31mValueError\u001b[0m: invalid literal for int() with base 10: '<user>'"
                    ]
                }
            ],
            "source": [
                "gensim.models.Word2Vec.wo.load_word2vec_format('/Users/lando/Downloads/glove/glove.twitter.27B.100d.txt', binary=True)"
            ]
        },
        {
            "cell_type": "code",
            "execution_count": 14,
            "metadata": {},
            "outputs": [],
            "source": [
                "from config import *\n",
                "def load_embedding_model():\n",
                "    path = ROOT_DIR/'data/embedding_model.pkl'\n",
                "    return gensim.models.KeyedVectors.load(str(path))"
            ]
        },
        {
            "cell_type": "code",
            "execution_count": 3,
            "metadata": {},
            "outputs": [],
            "source": [
                "x = s3.s3.get_object(Bucket=s3.bucket, Key='lexvec.enwiki+newscrawl.300d.W.pos.vectors')"
            ]
        },
        {
            "cell_type": "code",
            "execution_count": 6,
            "metadata": {},
            "outputs": [],
            "source": [
                "x = cheffrey.load_embedding_model()"
            ]
        },
        {
            "cell_type": "code",
            "execution_count": null,
            "metadata": {},
            "outputs": [],
            "source": [
                "gensim.Key"
            ]
        },
        {
            "cell_type": "code",
            "execution_count": 7,
            "metadata": {},
            "outputs": [
                {
                    "data": {
                        "text/plain": [
                            "<gensim.models.keyedvectors.KeyedVectors at 0x2835b0820>"
                        ]
                    },
                    "execution_count": 7,
                    "metadata": {},
                    "output_type": "execute_result"
                }
            ],
            "source": [
                "x"
            ]
        },
        {
            "cell_type": "code",
            "execution_count": 3,
            "metadata": {},
            "outputs": [],
            "source": [
                "users = {\n",
                "    'Landon': {'favorites': []},\n",
                "    'Erin': {'favorites': []},\n",
                "    'Emily': {'favorites': []},\n",
                "}\n",
                "cheffrey.save_yaml('users', users)"
            ]
        },
        {
            "cell_type": "code",
            "execution_count": 4,
            "metadata": {},
            "outputs": [
                {
                    "data": {
                        "text/plain": [
                            "{'Emily': {'favorites': []},\n",
                            " 'Erin': {'favorites': []},\n",
                            " 'Landon': {'favorites': []}}"
                        ]
                    },
                    "execution_count": 4,
                    "metadata": {},
                    "output_type": "execute_result"
                }
            ],
            "source": [
                "cheffrey.load_yaml('users')"
            ]
        },
        {
            "cell_type": "code",
            "execution_count": 2,
            "metadata": {},
            "outputs": [],
            "source": [
                "collection_url = 'https://www.bonappetit.com/simple-cooking/quick'"
            ]
        },
        {
            "cell_type": "code",
            "execution_count": 6,
            "metadata": {},
            "outputs": [],
            "source": [
                "from cheffrey import load_local_recipes\n",
                "from recipe_scrapers import scrape_me as scrape_recipe\n",
                "from bs4 import BeautifulSoup\n",
                "import requests\n",
                "\n",
                "def pull_existing_recipes():\n",
                "    master_recipes = load_local_recipes()\n",
                "    titles = list(master_recipes.keys())\n",
                "    urls = [r['canonical_url'] for r in master_recipes.values()]\n",
                "    return titles, urls"
            ]
        },
        {
            "cell_type": "code",
            "execution_count": 7,
            "metadata": {},
            "outputs": [],
            "source": [
                "base_url = collection_url.split('.com')[0] + '.com/'\n",
                "res = requests.get(collection_url)\n",
                "res.raise_for_status()\n",
                "soup = BeautifulSoup(res.text, features='lxml')\n",
                "\n",
                "if base_url == 'https://cooking.nytimes.com/':\n",
                "    recipe_cards = soup.find_all('a', {'class': 'image-anchor card-link'})\n",
                "    source = 'New York Times'\n",
                "elif base_url == 'https://www.bonappetit.com/':\n",
                "    recipe_cards = soup.find_all('a', {'href': re.compile(r'/recipe')})\n",
                "    source = 'Bon Appetit'\n",
                "else:\n",
                "    raise ValueError(f\"Unrecognized source: {base_url}\")\n",
                "\n",
                "existing_titles, existing_urls = pull_existing_recipes()"
            ]
        },
        {
            "cell_type": "code",
            "execution_count": 13,
            "metadata": {},
            "outputs": [],
            "source": [
                "card = recipe_cards[2]"
            ]
        },
        {
            "cell_type": "code",
            "execution_count": 15,
            "metadata": {},
            "outputs": [],
            "source": [
                "extension = card.get('href')\n",
                "url = base_url + extension\n",
                "url_to_download = url"
            ]
        },
        {
            "cell_type": "code",
            "execution_count": 18,
            "metadata": {},
            "outputs": [],
            "source": [
                "recipe = scrape_recipe(url_to_download)\n",
                "recipe = recipe.to_json()"
            ]
        },
        {
            "cell_type": "code",
            "execution_count": 40,
            "metadata": {},
            "outputs": [],
            "source": [
                "recipes = cheffrey.load_local_recipes()"
            ]
        },
        {
            "cell_type": "code",
            "execution_count": 43,
            "metadata": {},
            "outputs": [],
            "source": [
                "urls = []\n",
                "new_recipes = {}\n",
                "for recipe in recipes.values():\n",
                "    if recipe['canonical_url'] in urls:\n",
                "        continue\n",
                "    else:\n",
                "        urls.append(recipe['canonical_url'])\n",
                "        recipe['title'] = recipe['title'].replace(' ({source})', '')\n",
                "        new_recipes[recipe['title']] = recipe\n"
            ]
        },
        {
            "cell_type": "code",
            "execution_count": 45,
            "metadata": {},
            "outputs": [],
            "source": [
                "import json\n",
                "with open(cheffrey.ROOT_DIR/'data/recipes2.json', 'w') as f:\n",
                "    json.dump(new_recipes, f)"
            ]
        },
        {
            "cell_type": "code",
            "execution_count": 41,
            "metadata": {},
            "outputs": [
                {
                    "data": {
                        "text/plain": [
                            "1262"
                        ]
                    },
                    "execution_count": 41,
                    "metadata": {},
                    "output_type": "execute_result"
                }
            ],
            "source": [
                "len(set(urls))"
            ]
        },
        {
            "cell_type": "code",
            "execution_count": 42,
            "metadata": {},
            "outputs": [
                {
                    "data": {
                        "text/plain": [
                            "1887"
                        ]
                    },
                    "execution_count": 42,
                    "metadata": {},
                    "output_type": "execute_result"
                }
            ],
            "source": [
                "len(urls)"
            ]
        },
        {
            "cell_type": "code",
            "execution_count": 29,
            "metadata": {},
            "outputs": [],
            "source": [
                "x = [c for c in recipes.values() if c['canonical_url'] == 'https://cooking.nytimes.com/recipes/1023492-roasted-mushroom-and-halloumi-grain-bowl']"
            ]
        },
        {
            "cell_type": "code",
            "execution_count": 32,
            "metadata": {},
            "outputs": [
                {
                    "data": {
                        "text/plain": [
                            "'Roasted Mushroom and Halloumi Grain Bowl ({source})'"
                        ]
                    },
                    "execution_count": 32,
                    "metadata": {},
                    "output_type": "execute_result"
                }
            ],
            "source": [
                "x[1]['title']"
            ]
        },
        {
            "cell_type": "code",
            "execution_count": 26,
            "metadata": {},
            "outputs": [
                {
                    "data": {
                        "text/plain": [
                            "https://cooking.nytimes.com/recipes/1023492-roasted-mushroom-and-halloumi-grain-bowl        2\n",
                            "https://cooking.nytimes.com/recipes/1017704-vegetarian-skillet-chili                        2\n",
                            "https://cooking.nytimes.com/recipes/1020508-honey-apple-bread-pudding                       2\n",
                            "https://cooking.nytimes.com/recipes/1016380-beet-and-arugula-salad-with-berries             2\n",
                            "https://cooking.nytimes.com/recipes/1023833-whole-wheat-buttermilk-pancakes                 2\n",
                            "                                                                                           ..\n",
                            "https://cooking.nytimes.com/recipes/1023815-miso-butter-mushrooms-with-silky-eggs           1\n",
                            "https://cooking.nytimes.com/recipes/1023926-pan-seared-pork-chops-with-charred-pineapple    1\n",
                            "https://cooking.nytimes.com/recipes/1017082-creme-brulee-french-toast                       1\n",
                            "https://cooking.nytimes.com/recipes/1023369-snapper-escovitch                               1\n",
                            "https://cooking.nytimes.com/recipes/1016035-spicy-hot-chocolate                             1\n",
                            "Name: count, Length: 1256, dtype: int64"
                        ]
                    },
                    "execution_count": 26,
                    "metadata": {},
                    "output_type": "execute_result"
                }
            ],
            "source": [
                "import pandas as pd\n",
                "pd.Series(urls).value_counts()"
            ]
        },
        {
            "cell_type": "code",
            "execution_count": 9,
            "metadata": {},
            "outputs": [
                {
                    "data": {
                        "text/plain": [
                            "'howdy'"
                        ]
                    },
                    "execution_count": 9,
                    "metadata": {},
                    "output_type": "execute_result"
                }
            ],
            "source": [
                "cleaned_string = re.sub(r'[^a-zA-Z]', '', 'howdy123')\n",
                "cleaned_string"
            ]
        },
        {
            "cell_type": "code",
            "execution_count": 62,
            "metadata": {},
            "outputs": [],
            "source": [
                "def recipe_embedding(recipe):\n",
                "\n",
                "    d = {\n",
                "        'title': .5,\n",
                "        'instructions': 1,\n",
                "        'ingredients': 1,\n",
                "        'category': 3\n",
                "    }  \n",
                "\n",
                "    l = []\n",
                "    for type, modifier in d.items():\n",
                "        text = recipe[type]\n",
                "        if type == 'ingredients':\n",
                "            text = ' '.join(text)\n",
                "            text = remove_non_alphabetic_chars(text)\n",
                "        embeddings = cheffrey.get_embedding(model, title)\n",
                "        if embeddings is not None:\n",
                "            l.append(embeddings * modifier)\n",
                "\n",
                "    if len(l) == 0:\n",
                "        return np.zeros(shape=(model.vector_size))\n",
                "    \n",
                "    recipe_embeddings = np.column_stack([l])\n",
                "    recipe_embeddings = np.mean(recipe_embeddings, axis = 0)\n",
                "\n",
                "    return recipe_embeddings\n",
                "\n",
                "\n",
                "# Generate embeddings for each recipe\n",
                "recipe_embeddings = {}\n",
                "for title, recipe in recipes.items():\n",
                "    recipe_embeddings[title] = recipe_embedding(recipe)"
            ]
        },
        {
            "cell_type": "code",
            "execution_count": 74,
            "metadata": {},
            "outputs": [
                {
                    "data": {
                        "text/plain": [
                            "True"
                        ]
                    },
                    "execution_count": 74,
                    "metadata": {},
                    "output_type": "execute_result"
                }
            ],
            "source": [
                "from annoy import AnnoyIndex\n",
                "\n",
                "# Create an AnnoyIndex with the desired embedding dimensions\n",
                "embedding_dim = model.vector_size\n",
                "# embedding_dim = len(next(iter(recipe_embeddings.values())))\n",
                "annoy_index = AnnoyIndex(embedding_dim, metric='euclidean')\n",
                "\n",
                "# Add the recipe embeddings to the AnnoyIndex\n",
                "for i, embedding in enumerate(recipe_embeddings.values()):\n",
                "    annoy_index.add_item(i, embedding)\n",
                "\n",
                "# Build the index to enable searching\n",
                "annoy_index.build(n_trees=1000)\n",
                "\n",
                "annoy_index.save('annoy_index.ann')"
            ]
        },
        {
            "cell_type": "code",
            "execution_count": 72,
            "metadata": {},
            "outputs": [
                {
                    "data": {
                        "text/plain": [
                            "True"
                        ]
                    },
                    "execution_count": 72,
                    "metadata": {},
                    "output_type": "execute_result"
                }
            ],
            "source": [
                "new_index = AnnoyIndex(model.vector_size, metric = 'euclidean')\n",
                "new_index.load('annoy_index.ann')"
            ]
        },
        {
            "cell_type": "code",
            "execution_count": null,
            "metadata": {},
            "outputs": [],
            "source": [
                "AnnoyIndex."
            ]
        },
        {
            "cell_type": "code",
            "execution_count": 64,
            "metadata": {},
            "outputs": [
                {
                    "data": {
                        "text/plain": [
                            "['Brookies', 'Gado-Gado', 'Chepa Vepudu (Fish Fry)', 'Manicotti', 'Adasi']"
                        ]
                    },
                    "execution_count": 64,
                    "metadata": {},
                    "output_type": "execute_result"
                }
            ],
            "source": [
                "recip\n",
                "\n",
                "get_best_recipe('Asian lunch')"
            ]
        },
        {
            "cell_type": "code",
            "execution_count": 38,
            "metadata": {},
            "outputs": [
                {
                    "data": {
                        "text/plain": [
                            "(300,)"
                        ]
                    },
                    "execution_count": 38,
                    "metadata": {},
                    "output_type": "execute_result"
                }
            ],
            "source": [
                "embeddings.shape"
            ]
        },
        {
            "cell_type": "code",
            "execution_count": null,
            "metadata": {},
            "outputs": [],
            "source": []
        }
    ],
    "metadata": {
        "kernelspec": {
            "display_name": "Python 3.8.10 ('cheffrey')",
            "language": "python",
            "name": "python3"
        },
        "language_info": {
            "codemirror_mode": {
                "name": "ipython",
                "version": 3
            },
            "file_extension": ".py",
            "mimetype": "text/x-python",
            "name": "python",
            "nbconvert_exporter": "python",
            "pygments_lexer": "ipython3",
            "version": "3.10.9"
        },
        "orig_nbformat": 4,
        "vscode": {
            "interpreter": {
                "hash": "f2eb2383e1a9e49dae3cc5705924ea2b1e83f64a3778a0e0de554c91b86b36e7"
            }
        }
    },
    "nbformat": 4,
    "nbformat_minor": 2
}
