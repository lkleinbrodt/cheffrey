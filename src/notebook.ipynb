{
    "cells": [
        {
            "cell_type": "code",
            "execution_count": 1,
            "metadata": {},
            "outputs": [],
            "source": [
                "%load_ext autoreload\n",
                "%autoreload 2\n",
                "import ast\n",
                "import openai\n",
                "import re\n",
                "import os\n",
                "# openai.api_key = os.getenv('OPENAI_KEY')\n",
                "\n",
                "from document import *"
            ]
        },
        {
            "cell_type": "code",
            "execution_count": 2,
            "metadata": {},
            "outputs": [],
            "source": [
                "file_path = './app.py'"
            ]
        },
        {
            "cell_type": "code",
            "execution_count": 3,
            "metadata": {},
            "outputs": [],
            "source": [
                "functions = extract_functions(file_path)"
            ]
        },
        {
            "cell_type": "code",
            "execution_count": 4,
            "metadata": {},
            "outputs": [],
            "source": [
                "function = functions[5]"
            ]
        },
        {
            "cell_type": "code",
            "execution_count": 6,
            "metadata": {},
            "outputs": [],
            "source": [
                "docstring = generate_docstring(ast.unparse(function))"
            ]
        },
        {
            "cell_type": "code",
            "execution_count": 7,
            "metadata": {},
            "outputs": [
                {
                    "data": {
                        "text/plain": [
                            "'\"\"\"\\nDownload and display recipe information scraped from a user-provided URL. If the recipe already exists in the master recipe dictionary, the user is prompted to either update or replace the existing recipe.\\n\\n    Parameters:\\n    none\\n\\n    Returns:\\n    none\\n\\n    Raises:\\n    StopIteration: if an invalid or empty URL is provided\\n\\n\"\"\"'"
                        ]
                    },
                    "execution_count": 7,
                    "metadata": {},
                    "output_type": "execute_result"
                }
            ],
            "source": [
                "docstring"
            ]
        },
        {
            "cell_type": "code",
            "execution_count": 11,
            "metadata": {},
            "outputs": [
                {
                    "name": "stdout",
                    "output_type": "stream",
                    "text": [
                        "update_page\n",
                        "\"\"\"\n",
                        "Updates the selected page in the Streamlit app.\n",
                        "\n",
                        "Arguments:\n",
                        "page_name -- The name of the page to switch to.\n",
                        "\n",
                        "Side Effects:\n",
                        "Updates the Streamlit session state with the selected page.\n",
                        "\n",
                        "Returns:\n",
                        "None\n",
                        "\"\"\"\"\"\"\n",
                        "\n"
                    ]
                },
                {
                    "ename": "SyntaxError",
                    "evalue": "EOF while scanning triple-quoted string literal (<unknown>, line 12)",
                    "output_type": "error",
                    "traceback": [
                        "Traceback \u001b[0;36m(most recent call last)\u001b[0m:\n",
                        "\u001b[0m  File \u001b[1;32m~/Projects/cheffrey/venv/lib/python3.9/site-packages/IPython/core/interactiveshell.py:3505\u001b[0m in \u001b[1;35mrun_code\u001b[0m\n    exec(code_obj, self.user_global_ns, self.user_ns)\u001b[0m\n",
                        "\u001b[0m  Cell \u001b[1;32mIn[11], line 1\u001b[0m\n    add_docstrings_to_file(file_path)\u001b[0m\n",
                        "\u001b[0m  File \u001b[1;32m~/Projects/cheffrey/src/document.py:103\u001b[0m in \u001b[1;35madd_docstrings_to_file\u001b[0m\n    function = add_docstring(function)\u001b[0m\n",
                        "\u001b[0m  File \u001b[1;32m~/Projects/cheffrey/src/document.py:89\u001b[0m in \u001b[1;35madd_docstring\u001b[0m\n    raise e\u001b[0m\n",
                        "\u001b[0m  File \u001b[1;32m~/Projects/cheffrey/src/document.py:85\u001b[0m in \u001b[1;35madd_docstring\u001b[0m\n    parsed_docstring = ast.parse(docstring).body[0]\u001b[0m\n",
                        "\u001b[0;36m  File \u001b[0;32m/Library/Frameworks/Python.framework/Versions/3.9/lib/python3.9/ast.py:50\u001b[0;36m in \u001b[0;35mparse\u001b[0;36m\n\u001b[0;31m    return compile(source, filename, mode, flags,\u001b[0;36m\n",
                        "\u001b[0;36m  File \u001b[0;32m<unknown>:12\u001b[0;36m\u001b[0m\n\u001b[0;31m    \"\"\"\nUpdates the selected page in the Streamlit app.\n\nArguments:\npage_name -- The name of the page to switch to.\n\nSide Effects:\nUpdates the Streamlit session state with the selected page.\n\nReturns:\nNone\n\"\"\"\"\"\"\u001b[0m\n\u001b[0m       \n                                               \n\n          \n                                               \n\n             \n                                                           \n\n        \n    \n      ^\u001b[0m\n\u001b[0;31mSyntaxError\u001b[0m\u001b[0;31m:\u001b[0m EOF while scanning triple-quoted string literal\n"
                    ]
                }
            ],
            "source": [
                "add_docstrings_to_file(file_path)"
            ]
        },
        {
            "cell_type": "code",
            "execution_count": null,
            "metadata": {},
            "outputs": [],
            "source": []
        }
    ],
    "metadata": {
        "kernelspec": {
            "display_name": "Python 3.8.10 ('cheffrey')",
            "language": "python",
            "name": "python3"
        },
        "language_info": {
            "codemirror_mode": {
                "name": "ipython",
                "version": 3
            },
            "file_extension": ".py",
            "mimetype": "text/x-python",
            "name": "python",
            "nbconvert_exporter": "python",
            "pygments_lexer": "ipython3",
            "version": "3.9.13"
        },
        "orig_nbformat": 4,
        "vscode": {
            "interpreter": {
                "hash": "f2eb2383e1a9e49dae3cc5705924ea2b1e83f64a3778a0e0de554c91b86b36e7"
            }
        }
    },
    "nbformat": 4,
    "nbformat_minor": 2
}
