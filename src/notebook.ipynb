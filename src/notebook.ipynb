{
    "cells": [
        {
            "cell_type": "code",
            "execution_count": 51,
            "metadata": {},
            "outputs": [
                {
                    "name": "stdout",
                    "output_type": "stream",
                    "text": [
                        "The autoreload extension is already loaded. To reload it, use:\n",
                        "  %reload_ext autoreload\n"
                    ]
                }
            ],
            "source": [
                "%load_ext autoreload\n",
                "%autoreload 2\n",
                "import ast\n",
                "import openai\n",
                "import re\n",
                "import os\n",
                "# openai.api_key = os.getenv('OPENAI_KEY')\n",
                "\n",
                "from document import *"
            ]
        },
        {
            "cell_type": "code",
            "execution_count": null,
            "metadata": {},
            "outputs": [],
            "source": [
                "import os\n",
                "import openai\n",
                "openai.api_key = os.getenv(\"OPENAI_API_KEY\")\n",
                "openai.Completion.create(\n",
                "  model=\"text-davinci-003\",\n",
                "  prompt=\"Say this is a test\",\n",
                "  max_tokens=7,\n",
                "  temperature=0\n",
                ")"
            ]
        },
        {
            "cell_type": "code",
            "execution_count": 28,
            "metadata": {},
            "outputs": [],
            "source": [
                "import time\n",
                "def generate_docstring(function, attempts = 0):\n",
                "    \"\"\"\n",
                "    Generates a docstring for a given function signature and description\n",
                "    using the OpenAI GPT-3 API.\n",
                "    \"\"\"\n",
                "    prompt = f'Generate a concise but informative docstring for the following function:\\n\\n{function}\\n\\n'\n",
                "\n",
                "    try:\n",
                "        response = openai.ChatCompletion.create(\n",
                "            model='gpt-3.5-turbo', \n",
                "            messages = [\n",
                "                {'role': 'system', 'content': 'You are an expert programmer with 20+ years of experience writing clean and efficient Python code.'},\n",
                "                {'role': 'user', 'content': prompt}\n",
                "            ], \n",
                "            max_tokens = 200)\n",
                "    except openai.error.APIError as e:\n",
                "        if attempts > 3:\n",
                "            raise e\n",
                "        generate_docstring(function, attempts+1)\n",
                "    except openai.error.RateLimitError as e:\n",
                "        if attempts > 3:\n",
                "            raise e\n",
                "        print('Hit rate limit. Waiting 20 seconds')\n",
                "        time.sleep(21)\n",
                "        generate_docstring(function, attempts+1)\n",
                "    return response"
            ]
        },
        {
            "cell_type": "code",
            "execution_count": 69,
            "metadata": {},
            "outputs": [
                {
                    "name": "stdout",
                    "output_type": "stream",
                    "text": [
                        "Hit rate limit. Waiting 20 seconds\n",
                        "Hit rate limit. Waiting 20 seconds\n"
                    ]
                },
                {
                    "data": {
                        "text/plain": [
                            "True"
                        ]
                    },
                    "execution_count": 69,
                    "metadata": {},
                    "output_type": "execute_result"
                }
            ],
            "source": [
                "add_docstrings_to_file('./download_nyt_recipes.py')"
            ]
        },
        {
            "cell_type": "code",
            "execution_count": 70,
            "metadata": {},
            "outputs": [],
            "source": [
                "l = extract_functions('./cheffrey.py')"
            ]
        },
        {
            "cell_type": "code",
            "execution_count": 73,
            "metadata": {},
            "outputs": [],
            "source": [
                "function= l[0]"
            ]
        },
        {
            "cell_type": "code",
            "execution_count": 74,
            "metadata": {},
            "outputs": [],
            "source": [
                "docstring = generate_docstring(ast.unparse(function))"
            ]
        },
        {
            "cell_type": "code",
            "execution_count": 75,
            "metadata": {},
            "outputs": [
                {
                    "data": {
                        "text/plain": [
                            "'\"\"\"\\nLoad a YAML file from the \\'data\\' directory with the given name.\\n\\nParameters:\\n    name (str): The name of the YAML file to load. Valid types are \\'config\\' and \\'recipes\\'.\\n\\nReturns:\\n    The contents of the YAML file as a Python object.\\n\\nRaises:\\n    ValueError: If the given name is not recognized as a valid type.\\n\\nNote:\\n    This function requires the `yaml` module to be installed.\\n\"\"\"'"
                        ]
                    },
                    "execution_count": 75,
                    "metadata": {},
                    "output_type": "execute_result"
                }
            ],
            "source": [
                "docstring"
            ]
        },
        {
            "cell_type": "code",
            "execution_count": 76,
            "metadata": {},
            "outputs": [],
            "source": [
                "function.body.insert(0, ast.parse(docstring).body[0])"
            ]
        },
        {
            "cell_type": "code",
            "execution_count": 78,
            "metadata": {},
            "outputs": [
                {
                    "data": {
                        "text/plain": [
                            "'def load_yaml(name):\\n    \"\"\"\\nLoad a YAML file from the \\'data\\' directory with the given name.\\n\\nParameters:\\n    name (str): The name of the YAML file to load. Valid types are \\'config\\' and \\'recipes\\'.\\n\\nReturns:\\n    The contents of the YAML file as a Python object.\\n\\nRaises:\\n    ValueError: If the given name is not recognized as a valid type.\\n\\nNote:\\n    This function requires the `yaml` module to be installed.\\n\"\"\"\\n    valid_names = [\\'config\\', \\'recipes\\']\\n    if name in valid_names:\\n        with open(ROOT_DIR / f\\'data/{name}.yaml\\', \\'r\\') as f:\\n            return yaml.safe_load(f)\\n    else:\\n        raise ValueError(f\\'Unrecognized name: {name}. Valid types are: {valid_names}\\')'"
                        ]
                    },
                    "execution_count": 78,
                    "metadata": {},
                    "output_type": "execute_result"
                }
            ],
            "source": [
                "ast.unparse(function)"
            ]
        },
        {
            "cell_type": "code",
            "execution_count": 81,
            "metadata": {},
            "outputs": [
                {
                    "ename": "SyntaxError",
                    "evalue": "invalid syntax (<unknown>, line 1)",
                    "output_type": "error",
                    "traceback": [
                        "Traceback \u001b[0;36m(most recent call last)\u001b[0m:\n",
                        "\u001b[0m  File \u001b[1;32m~/Projects/cheffrey/venv/lib/python3.9/site-packages/IPython/core/interactiveshell.py:3505\u001b[0m in \u001b[1;35mrun_code\u001b[0m\n    exec(code_obj, self.user_global_ns, self.user_ns)\u001b[0m\n",
                        "\u001b[0m  Cell \u001b[1;32mIn[81], line 26\u001b[0m\n    add_docstrings_to_file(file_path)\u001b[0m\n",
                        "\u001b[0m  Cell \u001b[1;32mIn[81], line 11\u001b[0m in \u001b[1;35madd_docstrings_to_file\u001b[0m\n    function = add_docstring(function)\u001b[0m\n",
                        "\u001b[0m  File \u001b[1;32m~/Projects/cheffrey/src/document.py:62\u001b[0m in \u001b[1;35madd_docstring\u001b[0m\n    function.body.insert(0, ast.parse(docstring).body[0])\u001b[0m\n",
                        "\u001b[0;36m  File \u001b[0;32m/Library/Frameworks/Python.framework/Versions/3.9/lib/python3.9/ast.py:50\u001b[0;36m in \u001b[0;35mparse\u001b[0;36m\n\u001b[0;31m    return compile(source, filename, mode, flags,\u001b[0;36m\n",
                        "\u001b[0;36m  File \u001b[0;32m<unknown>:1\u001b[0;36m\u001b[0m\n\u001b[0;31m    ```\u001b[0m\n\u001b[0m    ^\u001b[0m\n\u001b[0;31mSyntaxError\u001b[0m\u001b[0;31m:\u001b[0m invalid syntax\n"
                    ]
                }
            ],
            "source": [
                "file_path = './download_nyt_recipes.py'\n",
                "def add_docstrings_to_file(file_path):\n",
                "    \"\"\"\n",
                "    Adds docstrings to all functions in a file.\n",
                "    \"\"\"\n",
                "    # Extract functions from file\n",
                "    functions = extract_functions(file_path)\n",
                "\n",
                "    # Add docstrings to each function\n",
                "    for function in functions:\n",
                "        print(function.name)\n",
                "        function = add_docstring(function)\n",
                "\n",
                "    # Rewrite file with modified functions\n",
                "    with open(file_path, \"r+\") as file:\n",
                "        source = file.read()\n",
                "        module = ast.parse(source)\n",
                "        ast.fix_missing_locations(module)\n",
                "        for function in functions:\n",
                "            for i, node in enumerate(module.body):\n",
                "                if node is function:\n",
                "                    module.body[i] = function\n",
                "                    break\n",
                "        file.seek(0)\n",
                "        file.write(ast.unparse(module))\n",
                "        file.truncate()\n",
                "add_docstrings_to_file(file_path)"
            ]
        },
        {
            "cell_type": "code",
            "execution_count": null,
            "metadata": {},
            "outputs": [],
            "source": []
        }
    ],
    "metadata": {
        "kernelspec": {
            "display_name": "Python 3.8.10 ('cheffrey')",
            "language": "python",
            "name": "python3"
        },
        "language_info": {
            "codemirror_mode": {
                "name": "ipython",
                "version": 3
            },
            "file_extension": ".py",
            "mimetype": "text/x-python",
            "name": "python",
            "nbconvert_exporter": "python",
            "pygments_lexer": "ipython3",
            "version": "3.9.13"
        },
        "orig_nbformat": 4,
        "vscode": {
            "interpreter": {
                "hash": "f2eb2383e1a9e49dae3cc5705924ea2b1e83f64a3778a0e0de554c91b86b36e7"
            }
        }
    },
    "nbformat": 4,
    "nbformat_minor": 2
}
