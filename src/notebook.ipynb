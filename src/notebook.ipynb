{
    "cells": [
        {
            "cell_type": "code",
            "execution_count": 1,
            "metadata": {},
            "outputs": [
                {
                    "name": "stderr",
                    "output_type": "stream",
                    "text": [
                        "2023-06-05 19:52:47.432 \n",
                        "  \u001b[33m\u001b[1mWarning:\u001b[0m to view this Streamlit app on a browser, run it with the following\n",
                        "  command:\n",
                        "\n",
                        "    streamlit run /Users/lando/Projects/cheffrey/venv/lib/python3.10/site-packages/ipykernel_launcher.py [ARGUMENTS]\n"
                    ]
                },
                {
                    "data": {
                        "text/plain": [
                            "True"
                        ]
                    },
                    "execution_count": 1,
                    "metadata": {},
                    "output_type": "execute_result"
                }
            ],
            "source": [
                "%load_ext autoreload\n",
                "%autoreload 2\n",
                "import numpy as np\n",
                "import re\n",
                "import os\n",
                "import boto3\n",
                "import gensim\n",
                "from dotenv import load_dotenv\n",
                "from s3 import create_s3\n",
                "import cheffrey\n",
                "load_dotenv()\n"
            ]
        },
        {
            "cell_type": "code",
            "execution_count": 3,
            "metadata": {},
            "outputs": [],
            "source": [
                "users = {\n",
                "    'Landon': {'favorites': []},\n",
                "    'Erin': {'favorites': []},\n",
                "    'Emily': {'favorites': []},\n",
                "}\n",
                "cheffrey.save_yaml('users', users)"
            ]
        },
        {
            "cell_type": "code",
            "execution_count": 4,
            "metadata": {},
            "outputs": [
                {
                    "data": {
                        "text/plain": [
                            "{'Emily': {'favorites': []},\n",
                            " 'Erin': {'favorites': []},\n",
                            " 'Landon': {'favorites': []}}"
                        ]
                    },
                    "execution_count": 4,
                    "metadata": {},
                    "output_type": "execute_result"
                }
            ],
            "source": [
                "cheffrey.load_yaml('users')"
            ]
        },
        {
            "cell_type": "code",
            "execution_count": 2,
            "metadata": {},
            "outputs": [],
            "source": [
                "collection_url = 'https://www.bonappetit.com/simple-cooking/quick'"
            ]
        },
        {
            "cell_type": "code",
            "execution_count": 6,
            "metadata": {},
            "outputs": [],
            "source": [
                "from cheffrey import load_local_recipes\n",
                "from recipe_scrapers import scrape_me as scrape_recipe\n",
                "from bs4 import BeautifulSoup\n",
                "import requests\n",
                "\n",
                "def pull_existing_recipes():\n",
                "    master_recipes = load_local_recipes()\n",
                "    titles = list(master_recipes.keys())\n",
                "    urls = [r['canonical_url'] for r in master_recipes.values()]\n",
                "    return titles, urls"
            ]
        },
        {
            "cell_type": "code",
            "execution_count": 7,
            "metadata": {},
            "outputs": [],
            "source": [
                "base_url = collection_url.split('.com')[0] + '.com/'\n",
                "res = requests.get(collection_url)\n",
                "res.raise_for_status()\n",
                "soup = BeautifulSoup(res.text, features='lxml')\n",
                "\n",
                "if base_url == 'https://cooking.nytimes.com/':\n",
                "    recipe_cards = soup.find_all('a', {'class': 'image-anchor card-link'})\n",
                "    source = 'New York Times'\n",
                "elif base_url == 'https://www.bonappetit.com/':\n",
                "    recipe_cards = soup.find_all('a', {'href': re.compile(r'/recipe')})\n",
                "    source = 'Bon Appetit'\n",
                "else:\n",
                "    raise ValueError(f\"Unrecognized source: {base_url}\")\n",
                "\n",
                "existing_titles, existing_urls = pull_existing_recipes()"
            ]
        },
        {
            "cell_type": "code",
            "execution_count": 13,
            "metadata": {},
            "outputs": [],
            "source": [
                "card = recipe_cards[2]"
            ]
        },
        {
            "cell_type": "code",
            "execution_count": 15,
            "metadata": {},
            "outputs": [],
            "source": [
                "extension = card.get('href')\n",
                "url = base_url + extension\n",
                "url_to_download = url"
            ]
        },
        {
            "cell_type": "code",
            "execution_count": 18,
            "metadata": {},
            "outputs": [],
            "source": [
                "recipe = scrape_recipe(url_to_download)\n",
                "recipe = recipe.to_json()"
            ]
        },
        {
            "cell_type": "code",
            "execution_count": 40,
            "metadata": {},
            "outputs": [],
            "source": [
                "recipes = cheffrey.load_local_recipes()"
            ]
        },
        {
            "cell_type": "code",
            "execution_count": 43,
            "metadata": {},
            "outputs": [],
            "source": [
                "urls = []\n",
                "new_recipes = {}\n",
                "for recipe in recipes.values():\n",
                "    if recipe['canonical_url'] in urls:\n",
                "        continue\n",
                "    else:\n",
                "        urls.append(recipe['canonical_url'])\n",
                "        recipe['title'] = recipe['title'].replace(' ({source})', '')\n",
                "        new_recipes[recipe['title']] = recipe\n"
            ]
        },
        {
            "cell_type": "code",
            "execution_count": 45,
            "metadata": {},
            "outputs": [],
            "source": [
                "import json\n",
                "with open(cheffrey.ROOT_DIR/'data/recipes2.json', 'w') as f:\n",
                "    json.dump(new_recipes, f)"
            ]
        },
        {
            "cell_type": "code",
            "execution_count": 41,
            "metadata": {},
            "outputs": [
                {
                    "data": {
                        "text/plain": [
                            "1262"
                        ]
                    },
                    "execution_count": 41,
                    "metadata": {},
                    "output_type": "execute_result"
                }
            ],
            "source": [
                "len(set(urls))"
            ]
        },
        {
            "cell_type": "code",
            "execution_count": 42,
            "metadata": {},
            "outputs": [
                {
                    "data": {
                        "text/plain": [
                            "1887"
                        ]
                    },
                    "execution_count": 42,
                    "metadata": {},
                    "output_type": "execute_result"
                }
            ],
            "source": [
                "len(urls)"
            ]
        },
        {
            "cell_type": "code",
            "execution_count": 29,
            "metadata": {},
            "outputs": [],
            "source": [
                "x = [c for c in recipes.values() if c['canonical_url'] == 'https://cooking.nytimes.com/recipes/1023492-roasted-mushroom-and-halloumi-grain-bowl']"
            ]
        },
        {
            "cell_type": "code",
            "execution_count": 32,
            "metadata": {},
            "outputs": [
                {
                    "data": {
                        "text/plain": [
                            "'Roasted Mushroom and Halloumi Grain Bowl ({source})'"
                        ]
                    },
                    "execution_count": 32,
                    "metadata": {},
                    "output_type": "execute_result"
                }
            ],
            "source": [
                "x[1]['title']"
            ]
        },
        {
            "cell_type": "code",
            "execution_count": 26,
            "metadata": {},
            "outputs": [
                {
                    "data": {
                        "text/plain": [
                            "https://cooking.nytimes.com/recipes/1023492-roasted-mushroom-and-halloumi-grain-bowl        2\n",
                            "https://cooking.nytimes.com/recipes/1017704-vegetarian-skillet-chili                        2\n",
                            "https://cooking.nytimes.com/recipes/1020508-honey-apple-bread-pudding                       2\n",
                            "https://cooking.nytimes.com/recipes/1016380-beet-and-arugula-salad-with-berries             2\n",
                            "https://cooking.nytimes.com/recipes/1023833-whole-wheat-buttermilk-pancakes                 2\n",
                            "                                                                                           ..\n",
                            "https://cooking.nytimes.com/recipes/1023815-miso-butter-mushrooms-with-silky-eggs           1\n",
                            "https://cooking.nytimes.com/recipes/1023926-pan-seared-pork-chops-with-charred-pineapple    1\n",
                            "https://cooking.nytimes.com/recipes/1017082-creme-brulee-french-toast                       1\n",
                            "https://cooking.nytimes.com/recipes/1023369-snapper-escovitch                               1\n",
                            "https://cooking.nytimes.com/recipes/1016035-spicy-hot-chocolate                             1\n",
                            "Name: count, Length: 1256, dtype: int64"
                        ]
                    },
                    "execution_count": 26,
                    "metadata": {},
                    "output_type": "execute_result"
                }
            ],
            "source": [
                "import pandas as pd\n",
                "pd.Series(urls).value_counts()"
            ]
        },
        {
            "cell_type": "code",
            "execution_count": 9,
            "metadata": {},
            "outputs": [
                {
                    "data": {
                        "text/plain": [
                            "'howdy'"
                        ]
                    },
                    "execution_count": 9,
                    "metadata": {},
                    "output_type": "execute_result"
                }
            ],
            "source": [
                "cleaned_string = re.sub(r'[^a-zA-Z]', '', 'howdy123')\n",
                "cleaned_string"
            ]
        },
        {
            "cell_type": "code",
            "execution_count": 62,
            "metadata": {},
            "outputs": [],
            "source": [
                "def recipe_embedding(recipe):\n",
                "\n",
                "    d = {\n",
                "        'title': .5,\n",
                "        'instructions': 1,\n",
                "        'ingredients': 1,\n",
                "        'category': 3\n",
                "    }  \n",
                "\n",
                "    l = []\n",
                "    for type, modifier in d.items():\n",
                "        text = recipe[type]\n",
                "        if type == 'ingredients':\n",
                "            text = ' '.join(text)\n",
                "            text = remove_non_alphabetic_chars(text)\n",
                "        embeddings = cheffrey.get_embedding(model, title)\n",
                "        if embeddings is not None:\n",
                "            l.append(embeddings * modifier)\n",
                "\n",
                "    if len(l) == 0:\n",
                "        return np.zeros(shape=(model.vector_size))\n",
                "    \n",
                "    recipe_embeddings = np.column_stack([l])\n",
                "    recipe_embeddings = np.mean(recipe_embeddings, axis = 0)\n",
                "\n",
                "    return recipe_embeddings\n",
                "\n",
                "\n",
                "# Generate embeddings for each recipe\n",
                "recipe_embeddings = {}\n",
                "for title, recipe in recipes.items():\n",
                "    recipe_embeddings[title] = recipe_embedding(recipe)"
            ]
        },
        {
            "cell_type": "code",
            "execution_count": 74,
            "metadata": {},
            "outputs": [
                {
                    "data": {
                        "text/plain": [
                            "True"
                        ]
                    },
                    "execution_count": 74,
                    "metadata": {},
                    "output_type": "execute_result"
                }
            ],
            "source": [
                "from annoy import AnnoyIndex\n",
                "\n",
                "# Create an AnnoyIndex with the desired embedding dimensions\n",
                "embedding_dim = model.vector_size\n",
                "# embedding_dim = len(next(iter(recipe_embeddings.values())))\n",
                "annoy_index = AnnoyIndex(embedding_dim, metric='euclidean')\n",
                "\n",
                "# Add the recipe embeddings to the AnnoyIndex\n",
                "for i, embedding in enumerate(recipe_embeddings.values()):\n",
                "    annoy_index.add_item(i, embedding)\n",
                "\n",
                "# Build the index to enable searching\n",
                "annoy_index.build(n_trees=1000)\n",
                "\n",
                "annoy_index.save('annoy_index.ann')"
            ]
        },
        {
            "cell_type": "code",
            "execution_count": 72,
            "metadata": {},
            "outputs": [
                {
                    "data": {
                        "text/plain": [
                            "True"
                        ]
                    },
                    "execution_count": 72,
                    "metadata": {},
                    "output_type": "execute_result"
                }
            ],
            "source": [
                "new_index = AnnoyIndex(model.vector_size, metric = 'euclidean')\n",
                "new_index.load('annoy_index.ann')"
            ]
        },
        {
            "cell_type": "code",
            "execution_count": null,
            "metadata": {},
            "outputs": [],
            "source": [
                "AnnoyIndex."
            ]
        },
        {
            "cell_type": "code",
            "execution_count": 64,
            "metadata": {},
            "outputs": [
                {
                    "data": {
                        "text/plain": [
                            "['Brookies', 'Gado-Gado', 'Chepa Vepudu (Fish Fry)', 'Manicotti', 'Adasi']"
                        ]
                    },
                    "execution_count": 64,
                    "metadata": {},
                    "output_type": "execute_result"
                }
            ],
            "source": [
                "recip\n",
                "\n",
                "get_best_recipe('Asian lunch')"
            ]
        },
        {
            "cell_type": "code",
            "execution_count": 38,
            "metadata": {},
            "outputs": [
                {
                    "data": {
                        "text/plain": [
                            "(300,)"
                        ]
                    },
                    "execution_count": 38,
                    "metadata": {},
                    "output_type": "execute_result"
                }
            ],
            "source": [
                "embeddings.shape"
            ]
        },
        {
            "cell_type": "code",
            "execution_count": null,
            "metadata": {},
            "outputs": [],
            "source": []
        }
    ],
    "metadata": {
        "kernelspec": {
            "display_name": "Python 3.8.10 ('cheffrey')",
            "language": "python",
            "name": "python3"
        },
        "language_info": {
            "codemirror_mode": {
                "name": "ipython",
                "version": 3
            },
            "file_extension": ".py",
            "mimetype": "text/x-python",
            "name": "python",
            "nbconvert_exporter": "python",
            "pygments_lexer": "ipython3",
            "version": "3.10.9"
        },
        "orig_nbformat": 4,
        "vscode": {
            "interpreter": {
                "hash": "f2eb2383e1a9e49dae3cc5705924ea2b1e83f64a3778a0e0de554c91b86b36e7"
            }
        }
    },
    "nbformat": 4,
    "nbformat_minor": 2
}
