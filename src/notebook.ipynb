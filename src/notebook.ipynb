{
    "cells": [
        {
            "cell_type": "code",
            "execution_count": 5,
            "metadata": {},
            "outputs": [],
            "source": [
                "%reload_ext autoreload\n",
                "%autoreload 2\n",
                "\n",
                "from cheffrey import *\n",
                "import sugarcube as sc\n",
                "from random import randint, sample, choice\n",
                "from recipe_scrapers import scrape_me as scrape_recipe\n",
                "from bs4 import BeautifulSoup\n",
                "import requests\n",
                "import os\n",
                "from s3 import *\n",
                "from config import *"
            ]
        },
        {
            "cell_type": "code",
            "execution_count": 6,
            "metadata": {},
            "outputs": [
                {
                    "data": {
                        "text/plain": [
                            "PosixPath('/Users/landon/Projects/cheffrey')"
                        ]
                    },
                    "execution_count": 6,
                    "metadata": {},
                    "output_type": "execute_result"
                }
            ],
            "source": [
                "ROOT_DIR"
            ]
        },
        {
            "cell_type": "code",
            "execution_count": 21,
            "metadata": {},
            "outputs": [],
            "source": [
                "s3 = create_s3()"
            ]
        },
        {
            "cell_type": "code",
            "execution_count": 22,
            "metadata": {},
            "outputs": [],
            "source": [
                "import os"
            ]
        },
        {
            "cell_type": "code",
            "execution_count": 36,
            "metadata": {},
            "outputs": [],
            "source": [
                "ROOT = os.path.abspath(os.pardir)"
            ]
        },
        {
            "cell_type": "code",
            "execution_count": 24,
            "metadata": {},
            "outputs": [],
            "source": [
                "recipes = load_yaml('recipes')"
            ]
        },
        {
            "cell_type": "code",
            "execution_count": 26,
            "metadata": {},
            "outputs": [],
            "source": [
                "s3recipes = load_s3_recipes()"
            ]
        },
        {
            "cell_type": "code",
            "execution_count": 33,
            "metadata": {},
            "outputs": [
                {
                    "name": "stdout",
                    "output_type": "stream",
                    "text": [
                        "ROOT_DIR /Users/landon/Projects/cheffrey\n",
                        "ROOT_DIR /Users/landon/Projects/cheffrey\n",
                        "ROOT_DIR /Users/landon/Projects/cheffrey\n",
                        "ROOT_DIR /Users/landon/Projects/cheffrey\n"
                    ]
                },
                {
                    "ename": "NameError",
                    "evalue": "name '__file__' is not defined",
                    "output_type": "error",
                    "traceback": [
                        "\u001b[0;31m---------------------------------------------------------------------------\u001b[0m",
                        "\u001b[0;31mNameError\u001b[0m                                 Traceback (most recent call last)",
                        "\u001b[0;32m<ipython-input-33-b1d432ea2e61>\u001b[0m in \u001b[0;36m<module>\u001b[0;34m\u001b[0m\n\u001b[0;32m----> 1\u001b[0;31m \u001b[0mos\u001b[0m\u001b[0;34m.\u001b[0m\u001b[0mpath\u001b[0m\u001b[0;34m.\u001b[0m\u001b[0mdirname\u001b[0m\u001b[0;34m(\u001b[0m\u001b[0m__file__\u001b[0m\u001b[0;34m)\u001b[0m\u001b[0;34m\u001b[0m\u001b[0;34m\u001b[0m\u001b[0m\n\u001b[0m",
                        "\u001b[0;31mNameError\u001b[0m: name '__file__' is not defined"
                    ]
                }
            ],
            "source": [
                "os.path.dirname(__file__)"
            ]
        },
        {
            "cell_type": "code",
            "execution_count": 32,
            "metadata": {},
            "outputs": [
                {
                    "data": {
                        "text/plain": [
                            "597"
                        ]
                    },
                    "execution_count": 32,
                    "metadata": {},
                    "output_type": "execute_result"
                }
            ],
            "source": [
                "len(set(s3recipes.keys()))"
            ]
        },
        {
            "cell_type": "code",
            "execution_count": 21,
            "metadata": {},
            "outputs": [
                {
                    "data": {
                        "text/plain": [
                            "True"
                        ]
                    },
                    "execution_count": 21,
                    "metadata": {},
                    "output_type": "execute_result"
                }
            ],
            "source": [
                "recipes = load_yaml('recipes')\n",
                "save_s3_yaml(s3, recipes, 'recipes.yaml')"
            ]
        },
        {
            "cell_type": "code",
            "execution_count": 8,
            "metadata": {},
            "outputs": [
                {
                    "data": {
                        "text/plain": [
                            "361"
                        ]
                    },
                    "execution_count": 8,
                    "metadata": {},
                    "output_type": "execute_result"
                }
            ],
            "source": [
                "len(recipes2)"
            ]
        },
        {
            "cell_type": "code",
            "execution_count": 24,
            "metadata": {},
            "outputs": [
                {
                    "ename": "AttributeError",
                    "evalue": "module 'botocore.client' has no attribute 'S3'",
                    "output_type": "error",
                    "traceback": [
                        "\u001b[0;31m---------------------------------------------------------------------------\u001b[0m",
                        "\u001b[0;31mAttributeError\u001b[0m                            Traceback (most recent call last)",
                        "\u001b[0;32m<ipython-input-24-c2d476a93c50>\u001b[0m in \u001b[0;36m<module>\u001b[0;34m\u001b[0m\n\u001b[1;32m      1\u001b[0m \u001b[0;32mimport\u001b[0m \u001b[0mbotocore\u001b[0m\u001b[0;34m\u001b[0m\u001b[0;34m\u001b[0m\u001b[0m\n\u001b[0;32m----> 2\u001b[0;31m \u001b[0mbotocore\u001b[0m\u001b[0;34m.\u001b[0m\u001b[0mclient\u001b[0m\u001b[0;34m.\u001b[0m\u001b[0mS3\u001b[0m\u001b[0;34m\u001b[0m\u001b[0;34m\u001b[0m\u001b[0m\n\u001b[0m",
                        "\u001b[0;31mAttributeError\u001b[0m: module 'botocore.client' has no attribute 'S3'"
                    ]
                }
            ],
            "source": []
        },
        {
            "cell_type": "code",
            "execution_count": null,
            "metadata": {},
            "outputs": [],
            "source": []
        },
        {
            "cell_type": "code",
            "execution_count": 83,
            "metadata": {},
            "outputs": [],
            "source": [
                "# import boto3\n",
                "# import os\n",
                "# s3 = boto3.client(\n",
                "#     's3',\n",
                "#     aws_access_key_id=os.getenv('AWS_ACCESS_KEY'),\n",
                "#     aws_secret_access_key=os.getenv('AWS_SECRET_KEY'),\n",
                "# )\n",
                "# s3.download_file('cheffrey', 'recipes.yaml', './test.yaml')"
            ]
        },
        {
            "cell_type": "code",
            "execution_count": 5,
            "metadata": {},
            "outputs": [],
            "source": []
        },
        {
            "cell_type": "code",
            "execution_count": null,
            "metadata": {},
            "outputs": [],
            "source": []
        },
        {
            "cell_type": "code",
            "execution_count": 3,
            "metadata": {},
            "outputs": [],
            "source": [
                "import spacy\n",
                "nlp = spacy.load(\"en_core_web_sm\")"
            ]
        },
        {
            "cell_type": "code",
            "execution_count": 4,
            "metadata": {},
            "outputs": [],
            "source": [
                "all_ingredients = [item for recipe in recipes.values() for item in recipe['Ingredients']]"
            ]
        },
        {
            "cell_type": "code",
            "execution_count": 14,
            "metadata": {},
            "outputs": [],
            "source": [
                "ingredient = '1 (15-ounce) can chickpeas, with their liquid'\n",
                "ing = ingredient.replace('-', ' ').split(',')[0]\n",
                "ing = nlp(ing)\n",
                "pos = [i.pos_ for i in ing]"
            ]
        },
        {
            "cell_type": "code",
            "execution_count": null,
            "metadata": {},
            "outputs": [],
            "source": []
        },
        {
            "cell_type": "code",
            "execution_count": 30,
            "metadata": {},
            "outputs": [
                {
                    "name": "stdout",
                    "output_type": "stream",
                    "text": [
                        "found (\n"
                    ]
                },
                {
                    "data": {
                        "text/plain": [
                            "(15.0, 'ounce', 'can chickpeas')"
                        ]
                    },
                    "execution_count": 30,
                    "metadata": {},
                    "output_type": "execute_result"
                }
            ],
            "source": [
                "parse_ingredient('1 (15-ounce) can chickpeas, with their liquid', nlp)"
            ]
        },
        {
            "cell_type": "code",
            "execution_count": 21,
            "metadata": {},
            "outputs": [
                {
                    "data": {
                        "text/plain": [
                            "'1 (15-ounce) can chickpeas, with their liquid'"
                        ]
                    },
                    "execution_count": 21,
                    "metadata": {},
                    "output_type": "execute_result"
                }
            ],
            "source": [
                "ingredient"
            ]
        },
        {
            "cell_type": "code",
            "execution_count": 108,
            "metadata": {},
            "outputs": [],
            "source": [
                "import pandas as pd\n",
                "# all_ingredients = all_ingredients[:500]\n",
                "df = pd.DataFrame({'Ingredients': all_ingredients})\n",
                "#not most efficient way. overhead of converting to series is memory intensive\n",
                "def helper(x):\n",
                "    try:\n",
                "        i = parse_ingredient(x, nlp)\n",
                "        if isinstance(i, sc.Ingredient):\n",
                "            return pd.Series({'Amount': i.amount, 'Measure': i.amount.unit, 'Item': i.element})\n",
                "        else:\n",
                "            return pd.Series({'Amount': None, 'Measure': None, 'Item': i})\n",
                "    except Exception as e:\n",
                "        print(x)\n",
                "        raise e\n",
                "\n",
                "df[['Amount', 'Measure', 'Item']] = df['Ingredients'].apply(helper)"
            ]
        },
        {
            "cell_type": "code",
            "execution_count": 109,
            "metadata": {},
            "outputs": [],
            "source": [
                "df.to_csv('parsed_ingredients.csv')"
            ]
        },
        {
            "cell_type": "code",
            "execution_count": null,
            "metadata": {},
            "outputs": [],
            "source": []
        }
    ],
    "metadata": {
        "kernelspec": {
            "display_name": "Python 3.8.10 ('cheffrey')",
            "language": "python",
            "name": "python3"
        },
        "language_info": {
            "codemirror_mode": {
                "name": "ipython",
                "version": 3
            },
            "file_extension": ".py",
            "mimetype": "text/x-python",
            "name": "python",
            "nbconvert_exporter": "python",
            "pygments_lexer": "ipython3",
            "version": "3.8.10"
        },
        "orig_nbformat": 4,
        "vscode": {
            "interpreter": {
                "hash": "f2eb2383e1a9e49dae3cc5705924ea2b1e83f64a3778a0e0de554c91b86b36e7"
            }
        }
    },
    "nbformat": 4,
    "nbformat_minor": 2
}
